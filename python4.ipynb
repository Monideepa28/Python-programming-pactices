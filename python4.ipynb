{
  "nbformat": 4,
  "nbformat_minor": 0,
  "metadata": {
    "colab": {
      "provenance": [],
      "collapsed_sections": [],
      "authorship_tag": "ABX9TyOWirhe5c9YTgQemvpRlnYq",
      "include_colab_link": true
    },
    "kernelspec": {
      "name": "python3",
      "display_name": "Python 3"
    },
    "language_info": {
      "name": "python"
    }
  },
  "cells": [
    {
      "cell_type": "markdown",
      "metadata": {
        "id": "view-in-github",
        "colab_type": "text"
      },
      "source": [
        "<a href=\"https://colab.research.google.com/github/Monideepa28/Python-programming-pactices/blob/main/python4.ipynb\" target=\"_parent\"><img src=\"https://colab.research.google.com/assets/colab-badge.svg\" alt=\"Open In Colab\"/></a>"
      ]
    },
    {
      "cell_type": "markdown",
      "source": [
        "### ***Some easy problems***"
      ],
      "metadata": {
        "id": "qr60s5o7xu5p"
      }
    },
    {
      "cell_type": "markdown",
      "source": [
        "### **1.Create a tuple containing the names of five countries and display the whole tuple. Ask the user to enter one of the countries that have been shown to them and then display the index number (i.e. position in the list) of that item in the tuple**. "
      ],
      "metadata": {
        "id": "UIHKvuLTyIrB"
      }
    },
    {
      "cell_type": "code",
      "execution_count": 3,
      "metadata": {
        "id": "APLYsvAOxkQQ",
        "colab": {
          "base_uri": "https://localhost:8080/"
        },
        "outputId": "0d899651-9456-4346-aa44-38c340c634e5"
      },
      "outputs": [
        {
          "output_type": "stream",
          "name": "stdout",
          "text": [
            "('India', 'USA', 'UK', 'GERMANY', 'France')\n",
            "Please enter one of the countries from above: UK\n",
            "UK has index number 2\n"
          ]
        }
      ],
      "source": [
        "country_tuple=('India','USA','UK','GERMANY','France')\n",
        "print(country_tuple)\n",
        "country=input(\"Please enter one of the countries from above: \")\n",
        "print(country, \"has index number\",country_tuple.index(country))"
      ]
    },
    {
      "cell_type": "markdown",
      "source": [
        "### **2.Add to program 69 to ask the user to enter a number and display the country in that position.**"
      ],
      "metadata": {
        "id": "o232IrXY6t-P"
      }
    },
    {
      "cell_type": "code",
      "source": [
        "country_tuple=('India','USA','UK','GERMANY','France')\n",
        "print(country_tuple)\n",
        "print(type(country_tuple))\n",
        "cid=int(input(\"Please enter a number between 0 to 4: \"))\n",
        "print(country_tuple[cid])"
      ],
      "metadata": {
        "colab": {
          "base_uri": "https://localhost:8080/"
        },
        "id": "YuU5DVCx66WW",
        "outputId": "c838723c-0851-4bc7-886f-30e91a8b6fba"
      },
      "execution_count": 4,
      "outputs": [
        {
          "output_type": "stream",
          "name": "stdout",
          "text": [
            "('India', 'USA', 'UK', 'GERMANY', 'France')\n",
            "<class 'tuple'>\n",
            "Please enter a number between 0 to 4: 4\n",
            "France\n"
          ]
        }
      ]
    },
    {
      "cell_type": "markdown",
      "source": [
        "### **3.Create a list of two sports. Ask the user what their favourite sport is and add this to the end of the list. Sort the list and display it.**"
      ],
      "metadata": {
        "id": "6ui-cvpPPBSD"
      }
    },
    {
      "cell_type": "code",
      "source": [
        "mylist=['football','cricket']\n",
        "yourfavsports=input(\"Enter your favourite sports: \")\n",
        "mylist.append(yourfavsports)\n",
        "print(mylist)\n",
        "mylist.sort()\n",
        "print(mylist)"
      ],
      "metadata": {
        "colab": {
          "base_uri": "https://localhost:8080/"
        },
        "id": "g6c5G-aKPIJ6",
        "outputId": "72355424-63b6-411d-bc81-4d44f9ecd64d"
      },
      "execution_count": 5,
      "outputs": [
        {
          "output_type": "stream",
          "name": "stdout",
          "text": [
            "Enter your favourite sports: tennis\n",
            "['football', 'cricket', 'tennis']\n",
            "['cricket', 'football', 'tennis']\n"
          ]
        }
      ]
    },
    {
      "cell_type": "markdown",
      "source": [
        "### **4.Create a list of six school subjects. Ask the user which of these subjects they don’t like. Delete the subject they have chosen from the list before you display the list again.**"
      ],
      "metadata": {
        "id": "R6HBTq2_PiMx"
      }
    },
    {
      "cell_type": "code",
      "source": [
        "mysubjects=['bengali','history','geography','math','science','english']\n",
        "dontlike=input(\"Enter the subject that you dont like: \")\n",
        "getid=mysubjects.index(dontlike)\n",
        "print(\"The index of\",dontlike, \"is: \",getid)\n",
        "del mysubjects[getid]\n",
        "print(mysubjects)"
      ],
      "metadata": {
        "colab": {
          "base_uri": "https://localhost:8080/"
        },
        "id": "fQtOTbXIZPbx",
        "outputId": "38e9bdd4-a948-47c3-8934-3a790db06ce4"
      },
      "execution_count": 6,
      "outputs": [
        {
          "output_type": "stream",
          "name": "stdout",
          "text": [
            "Enter the subject that you dont like: history\n",
            "The index of history is:  1\n",
            "['bengali', 'geography', 'math', 'science', 'english']\n"
          ]
        }
      ]
    },
    {
      "cell_type": "markdown",
      "source": [
        "### **5.Ask the user to enter four of their favourite foods and store them in a dictionary so that they are indexed with numbers starting from 1. Display the dictionary in full, showing the index number and the item. Ask them which they want to get rid of and remove it from the list. Sort the remaining data and display the dictionary.**"
      ],
      "metadata": {
        "id": "3TZwxAqWdJ0P"
      }
    },
    {
      "cell_type": "code",
      "source": [
        "mydictionary={}\n",
        "print(type(mydictionary))"
      ],
      "metadata": {
        "colab": {
          "base_uri": "https://localhost:8080/"
        },
        "id": "y3BWeXhWdQmt",
        "outputId": "26759333-9309-4bcc-d0c7-41ec83efb4e1"
      },
      "execution_count": 7,
      "outputs": [
        {
          "output_type": "stream",
          "name": "stdout",
          "text": [
            "<class 'dict'>\n"
          ]
        }
      ]
    },
    {
      "cell_type": "code",
      "source": [
        "mydictionary={1:'red',2:'green',3:'yellow'}\n",
        "type(mydictionary)"
      ],
      "metadata": {
        "colab": {
          "base_uri": "https://localhost:8080/"
        },
        "id": "vnnSekm-d13M",
        "outputId": "bb611dec-a9a9-4190-c3c9-78aaddb83142"
      },
      "execution_count": 8,
      "outputs": [
        {
          "output_type": "execute_result",
          "data": {
            "text/plain": [
              "dict"
            ]
          },
          "metadata": {},
          "execution_count": 8
        }
      ]
    },
    {
      "cell_type": "code",
      "source": [
        "mydictionary[1]\n",
        "mydictionary[2]\n",
        "mydictionary[3]\n"
      ],
      "metadata": {
        "colab": {
          "base_uri": "https://localhost:8080/",
          "height": 36
        },
        "id": "3L8_onMDd3a8",
        "outputId": "bce8aece-6eaa-4eda-fab8-125b1e9dc3cf"
      },
      "execution_count": 9,
      "outputs": [
        {
          "output_type": "execute_result",
          "data": {
            "text/plain": [
              "'yellow'"
            ],
            "application/vnd.google.colaboratory.intrinsic+json": {
              "type": "string"
            }
          },
          "metadata": {},
          "execution_count": 9
        }
      ]
    },
    {
      "cell_type": "code",
      "source": [
        "#dictionary means a key value pair\n",
        "food_dict={}\n",
        "fd1=input(\"Enter a food you like: \")\n",
        "food_dict[1]=fd1\n",
        "# here 1 is key and fd1 is value\n",
        "fd2=input(\"Enter a food you like: \")\n",
        "food_dict[2]=fd2\n",
        "fd3=input(\"Enter a food you like: \")\n",
        "food_dict[3]=fd3\n",
        "fd4=input(\"Enter a food you like: \")\n",
        "food_dict[4]=fd4\n",
        "print(food_dict)\n",
        "dislike=int(input(\"Which food you dont like: \"))\n",
        "del food_dict[dislike]\n",
        "print(sorted(food_dict.values()))"
      ],
      "metadata": {
        "colab": {
          "base_uri": "https://localhost:8080/"
        },
        "id": "vwT4jjdAeCAM",
        "outputId": "936ba3a2-c807-4de4-89e1-1403492d55ff"
      },
      "execution_count": 13,
      "outputs": [
        {
          "output_type": "stream",
          "name": "stdout",
          "text": [
            "Enter a food you like: egg\n",
            "Enter a food you like: fish\n",
            "Enter a food you like: chicken\n",
            "Enter a food you like: rish\n",
            "{1: 'egg', 2: 'fish', 3: 'chicken', 4: 'rish'}\n",
            "Which food you dont like: 4\n",
            "['chicken', 'egg', 'fish']\n"
          ]
        }
      ]
    },
    {
      "cell_type": "markdown",
      "source": [
        "### **6.Enter a list of ten colours. Ask the user for a starting number between 0 and 4 and an end number between 5 and 9. Display the list for those colours between the start and end numbers the user input.**"
      ],
      "metadata": {
        "id": "TVDwu3K0evf1"
      }
    },
    {
      "cell_type": "code",
      "source": [
        "mycolors=['red','green','blue','white','yellow','purple','grey','black','brown','pink']\n",
        "print(mycolors)\n",
        "start=int(input(\"Enter a starting number between 0 to 4: \"))\n",
        "end= int(input(\"Enter a end number between 5 to 9: \"))\n",
        "print(mycolors[start:end])\n"
      ],
      "metadata": {
        "colab": {
          "base_uri": "https://localhost:8080/"
        },
        "id": "W1lLMn0GezCF",
        "outputId": "73284e50-3614-4c89-8fae-474c05d0a64a"
      },
      "execution_count": 15,
      "outputs": [
        {
          "output_type": "stream",
          "name": "stdout",
          "text": [
            "['red', 'green', 'blue', 'white', 'yellow', 'purple', 'grey', 'black', 'brown', 'pink']\n",
            "Enter a starting number between 0 to 4: 3\n",
            "Enter a end number between 5 to 9: 8\n",
            "['white', 'yellow', 'purple', 'grey', 'black']\n"
          ]
        }
      ]
    },
    {
      "cell_type": "markdown",
      "source": [
        "### **7.Create a list of four three-digit numbers. Display the list to the user, showing each item from the list on a separate line. Ask the user to enter a three-digit number. If the number they have typed in matches one in the list, display the position of that number in the list, otherwise display the message “That is not in the list”.**"
      ],
      "metadata": {
        "id": "5SUAWVrne5Qd"
      }
    },
    {
      "cell_type": "code",
      "source": [
        "mylist=[123,345,456,678]\n",
        "print(len(mylist))\n",
        "print(range(len(mylist)))\n",
        "for i in range(len(mylist)):\n",
        "  print(mylist[i])\n",
        "num=int(input(\"Enter a three-digit number: \"))\n",
        "if num in mylist:\n",
        "  print(num,\"is in the position \",mylist.index(num))\n",
        "else:\n",
        "  print(\"That is not in the list\")  \n",
        "# print()\n",
        "# for i in mylist:\n",
        "#   print(i) \n"
      ],
      "metadata": {
        "colab": {
          "base_uri": "https://localhost:8080/"
        },
        "id": "XHvB0zl1fNot",
        "outputId": "5c42ca66-93f2-4d8a-f7ec-0c9704382cc8"
      },
      "execution_count": 16,
      "outputs": [
        {
          "output_type": "stream",
          "name": "stdout",
          "text": [
            "4\n",
            "range(0, 4)\n",
            "123\n",
            "345\n",
            "456\n",
            "678\n",
            "Enter a three-digit number: 524\n",
            "That is not in the list\n"
          ]
        }
      ]
    },
    {
      "cell_type": "code",
      "source": [
        "mylist=[123,345,456,678]\n",
        "print(len(mylist))\n",
        "print(range(len(mylist)))\n",
        "for i in range(len(mylist)):\n",
        "  print(mylist[i])\n",
        "num=int(input(\"Enter a three-digit number: \"))\n",
        "if num in mylist:\n",
        "  print(num,\"is in the position \",mylist.index(num))\n",
        "else:\n",
        "  print(\"That is not in the list\")  \n",
        "# print()\n",
        "# for i in mylist:\n",
        "#   print(i) \n"
      ],
      "metadata": {
        "colab": {
          "base_uri": "https://localhost:8080/"
        },
        "id": "UEKEGVD6fZTk",
        "outputId": "8fe345b5-5afb-402e-8700-e9c069e2787f"
      },
      "execution_count": 17,
      "outputs": [
        {
          "output_type": "stream",
          "name": "stdout",
          "text": [
            "4\n",
            "range(0, 4)\n",
            "123\n",
            "345\n",
            "456\n",
            "678\n",
            "Enter a three-digit number: 345\n",
            "345 is in the position  1\n"
          ]
        }
      ]
    },
    {
      "cell_type": "markdown",
      "source": [
        "### **8.Ask the user to enter the names of three people they want to invite to a party and store them in a list. After they have entered all three names, ask them if they want to add another. If they do, allow them to add more names until they answer “no”. When they answer “no”, display how many people they have invited to the party.**"
      ],
      "metadata": {
        "id": "P65MhhNafc9s"
      }
    },
    {
      "cell_type": "code",
      "source": [
        "n1=input(\"Enter the first person: \")\n",
        "n2=input(\"Enter the second person: \")\n",
        "n3=input(\"Enter the third person: \")\n",
        "mypeople=[n1,n2,n3]\n",
        "another=input(\"Do you want to enter a new name(yes/no): \")\n",
        "while another=='yes':\n",
        "  nn=mypeople.append(input(\"Enter another name: \"))\n",
        "  another=input(\"Do you want to enter a new name(yes/no): \")\n",
        "print(\"You have \", len(mypeople),\" in your party and they are: \",mypeople) "
      ],
      "metadata": {
        "colab": {
          "base_uri": "https://localhost:8080/"
        },
        "id": "KsdlR0GmfnTr",
        "outputId": "c469f5af-69e9-435b-a23b-c0a71ad6bdb7"
      },
      "execution_count": 18,
      "outputs": [
        {
          "output_type": "stream",
          "name": "stdout",
          "text": [
            "Enter the first person: ram\n",
            "Enter the second person: sam\n",
            "Enter the third person: jadu\n",
            "Do you want to enter a new name(yes/no): yes\n",
            "Enter another name: mon\n",
            "Do you want to enter a new name(yes/no): no\n",
            "You have  4  in your party and they are:  ['ram', 'sam', 'jadu', 'mon']\n"
          ]
        }
      ]
    },
    {
      "cell_type": "markdown",
      "source": [
        "### **9.Change program 76 so that once the user has completed their list of names, display the full list and ask them to type in one of the names on the list. Display the position of that name in the list. Ask the user if they still want that person to come to the party. If they answer “no”, delete that entry from the list and display the list again.**"
      ],
      "metadata": {
        "id": "rC6FXcIafyZM"
      }
    },
    {
      "cell_type": "code",
      "source": [
        "n1=input(\"Enter the first person: \")\n",
        "n2=input(\"Enter the second person: \")\n",
        "n3=input(\"Enter the third person: \")\n",
        "mypeople=[n1,n2,n3]\n",
        "another=input(\"Do you want to enter a new name(yes/no): \")\n",
        "while another=='yes':\n",
        "  nn=mypeople.append(input(\"Enter another name: \"))\n",
        "  another=input(\"Do you want to enter a new name(yes/no): \")\n",
        "print(\"You have \", len(mypeople),\" people in your party and they are: \",mypeople)\n",
        "dd=input(\"Enter one of the names: \")\n",
        "print(dd, \" in the position \",mypeople.index(dd))\n",
        "mt=input(\"Do you still want to invite that person (y/n): \")\n",
        "if mt=='n':\n",
        "  mypeople.remove(dd)\n",
        "print(mypeople)  "
      ],
      "metadata": {
        "colab": {
          "base_uri": "https://localhost:8080/"
        },
        "id": "SXpDj-cdgC8c",
        "outputId": "fddb9e03-ec6a-4877-bbae-fdfcdebef9ba"
      },
      "execution_count": 20,
      "outputs": [
        {
          "output_type": "stream",
          "name": "stdout",
          "text": [
            "Enter the first person: ram\n",
            "Enter the second person: mon\n",
            "Enter the third person: sam\n",
            "Do you want to enter a new name(yes/no): yes\n",
            "Enter another name: moni\n",
            "Do you want to enter a new name(yes/no): no\n",
            "You have  4  people in your party and they are:  ['ram', 'mon', 'sam', 'moni']\n",
            "Enter one of the names: mon\n",
            "mon  in the position  1\n",
            "Do you still want to invite that person (y/n): y\n",
            "['ram', 'mon', 'sam', 'moni']\n"
          ]
        }
      ]
    },
    {
      "cell_type": "markdown",
      "source": [
        "### **10.Create a list containing the titles of four TV programmes and display them on separate lines. Ask the user to enter another show and a position they want it inserted into the list. Display the list again, showing all five TV programmes in their new positions.**"
      ],
      "metadata": {
        "id": "TZ6KqR-eg2r8"
      }
    },
    {
      "cell_type": "code",
      "source": [
        "tvprog=['a1','b1','c1','d1']\n",
        "for i in range(len(tvprog)):\n",
        "  print(tvprog[i])\n",
        "show=input(\"Enter another show: \")\n",
        "pos=int(input(\"Enter the position: \"))\n",
        "tvprog.insert(pos,show)\n",
        "print(tvprog)  "
      ],
      "metadata": {
        "colab": {
          "base_uri": "https://localhost:8080/"
        },
        "id": "pBv26HIShCBD",
        "outputId": "d3d8a8ea-90f0-4da7-c015-a4d5c8804837"
      },
      "execution_count": 21,
      "outputs": [
        {
          "output_type": "stream",
          "name": "stdout",
          "text": [
            "a1\n",
            "b1\n",
            "c1\n",
            "d1\n",
            "Enter another show: d2\n",
            "Enter the position: 3\n",
            "['a1', 'b1', 'c1', 'd2', 'd1']\n"
          ]
        }
      ]
    },
    {
      "cell_type": "markdown",
      "source": [
        "### **11.Create an empty list called “nums”. Ask the user to enter numbers. After each number is entered, add it to the end of the nums list and display the list. Once they have entered three numbers, ask them if they still want the last number they entered saved. If they say “no”, remove the last item from the list. Display the list of numbers.**"
      ],
      "metadata": {
        "id": "nvIxUlo9g7I8"
      }
    },
    {
      "cell_type": "code",
      "source": [
        "nums=[]\n",
        "count=0\n",
        "\n",
        "while count<3:\n",
        "  nt=int(input(\"Enter a number: \"))\n",
        "  nums.append(nt)\n",
        "  count=count+1\n",
        "lastnum=input(\"Do you still want the last number(y/n): \")\n",
        "if lastnum=='n':\n",
        "  nums.remove(nt)\n",
        "print(nums)  \n"
      ],
      "metadata": {
        "colab": {
          "base_uri": "https://localhost:8080/"
        },
        "id": "nh-v3oPbhFPS",
        "outputId": "86ae5789-7726-4190-e9e8-0a80523de65a"
      },
      "execution_count": 22,
      "outputs": [
        {
          "output_type": "stream",
          "name": "stdout",
          "text": [
            "Enter a number: 45\n",
            "Enter a number: 74\n",
            "Enter a number: 54\n",
            "Do you still want the last number(y/n): y\n",
            "[45, 74, 54]\n"
          ]
        }
      ]
    }
  ]
}