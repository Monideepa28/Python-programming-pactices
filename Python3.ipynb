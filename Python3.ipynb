{
  "nbformat": 4,
  "nbformat_minor": 0,
  "metadata": {
    "colab": {
      "provenance": [],
      "collapsed_sections": [],
      "authorship_tag": "ABX9TyOkGIdKpk8cyF8F0eMuE0i+",
      "include_colab_link": true
    },
    "kernelspec": {
      "name": "python3",
      "display_name": "Python 3"
    },
    "language_info": {
      "name": "python"
    }
  },
  "cells": [
    {
      "cell_type": "markdown",
      "metadata": {
        "id": "view-in-github",
        "colab_type": "text"
      },
      "source": [
        "<a href=\"https://colab.research.google.com/github/Monideepa28/Python-programming-pactices/blob/main/Python3.ipynb\" target=\"_parent\"><img src=\"https://colab.research.google.com/assets/colab-badge.svg\" alt=\"Open In Colab\"/></a>"
      ]
    },
    {
      "cell_type": "markdown",
      "source": [
        "# ***Some challenges for loop***"
      ],
      "metadata": {
        "id": "RCIG-KUJc8ka"
      }
    },
    {
      "cell_type": "markdown",
      "source": [
        "### **1.Set the total to 0 to start with. While the total is 50 or less, ask the user to input a number. Add that number to the total and print the message “The total is… [total]”. Stop the loop when the total is over 50.**"
      ],
      "metadata": {
        "id": "NoRJi7hgdUnS"
      }
    },
    {
      "cell_type": "code",
      "execution_count": null,
      "metadata": {
        "id": "aelum4ztWY29",
        "colab": {
          "base_uri": "https://localhost:8080/"
        },
        "outputId": "6ffd7cda-208e-46d3-e339-ce8b51e77bd1"
      },
      "outputs": [
        {
          "output_type": "stream",
          "name": "stdout",
          "text": [
            "Enter the number: 50\n",
            "The total is... 50\n",
            "Enter the number: 1\n",
            "The total is... 51\n"
          ]
        }
      ],
      "source": [
        "total=0\n",
        "while(total<=50):\n",
        "  num=int(input(\"Enter the number: \"))\n",
        "  total=total+num\n",
        "  print(\"The total is...\",total)"
      ]
    },
    {
      "cell_type": "markdown",
      "source": [
        "### **2.Ask the user to enter a number. Keep asking until they enter a value over 5 and then display the message “The last number you entered was a [number]” and stop the program.**"
      ],
      "metadata": {
        "id": "nRifdLLqv6vf"
      }
    },
    {
      "cell_type": "code",
      "source": [
        "num=0\n",
        "while(num<=5):\n",
        "  num=int(input(\"Enter the number: \"))\n",
        "print(\"The last number you entered was a\",num)  \n"
      ],
      "metadata": {
        "colab": {
          "base_uri": "https://localhost:8080/"
        },
        "id": "FwiewyegwA1n",
        "outputId": "88ba5b71-7a26-4d09-d5bf-eec9ab2c984e"
      },
      "execution_count": null,
      "outputs": [
        {
          "output_type": "stream",
          "name": "stdout",
          "text": [
            "Enter the number: 2\n",
            "Enter the number: 1\n",
            "Enter the number: 4\n",
            "Enter the number: 3\n",
            "Enter the number: 7\n",
            "The last number you entered was a 7\n"
          ]
        }
      ]
    },
    {
      "cell_type": "markdown",
      "source": [
        "### **3.Ask the user to enter a number and then enter another number. Add these two numbers together and then ask if they want to add another number. If they enter “y\", ask them to enter another number and keep adding numbers until they do not answer “y”. Once the loop has stopped, display the total.**"
      ],
      "metadata": {
        "id": "hu_mwVcrwitY"
      }
    },
    {
      "cell_type": "code",
      "source": [
        "num1=int(input(\"Enter a number: \"))\n",
        "total=num1\n",
        "choice='y'\n",
        "while(choice=='y'):\n",
        "  num2=int(input(\"Enter another number: \"))\n",
        "  total=total+num2\n",
        "  choice=input(\"Enter your choice : \")\n",
        "print(\"The total is: \",total)  "
      ],
      "metadata": {
        "colab": {
          "base_uri": "https://localhost:8080/"
        },
        "id": "wDa39axcwm3A",
        "outputId": "348535e1-f5a4-4ffa-ca80-5ae284f0fada"
      },
      "execution_count": null,
      "outputs": [
        {
          "output_type": "stream",
          "name": "stdout",
          "text": [
            "Enter a number: 12\n",
            "Enter another number: 41\n",
            "Enter your choice : y\n",
            "Enter another number: 40\n",
            "Enter your choice : no\n",
            "The total is:  93\n"
          ]
        }
      ]
    },
    {
      "cell_type": "markdown",
      "source": [
        "### **4.Ask for the name of somebody the user wants to invite to a party. After this, display the message “[name] has now been invited” and add 1 to the count. Then ask if they want to invite somebody else. Keep repeating this until they no longer want to invite anyone else to the party and then display how many people they have coming to the party.**"
      ],
      "metadata": {
        "id": "u7XrNfMaxO2w"
      }
    },
    {
      "cell_type": "code",
      "source": [
        "choice='y'\n",
        "count=0\n",
        "while(choice=='y'):\n",
        "  name=input(\"Enter the name: \")\n",
        "  count=count+1\n",
        "  print(name,\" has now been invited\")\n",
        "  choice=input(\"Enter your chocie: \")\n",
        "print(\"You have \", count, \"people coming to the party\")  "
      ],
      "metadata": {
        "colab": {
          "base_uri": "https://localhost:8080/"
        },
        "id": "ZtL0AQ0mxW94",
        "outputId": "4939fc5e-0db1-4927-8025-561adb8c30db"
      },
      "execution_count": null,
      "outputs": [
        {
          "output_type": "stream",
          "name": "stdout",
          "text": [
            "Enter the name: Monideepa\n",
            "Monideepa  has now been invited\n",
            "Enter your chocie: Y\n",
            "You have  1 people coming to the party\n"
          ]
        }
      ]
    },
    {
      "cell_type": "markdown",
      "source": [
        "### **5.Create a variable called compnum and set the value to 50. Ask the user to enter a number. While their guess is not the same as the compnum value, tell them if their guess is too low or too high and ask them to have another guess. If they enter the same value as compnum, display the message “Well done, you took [count] attempts”.**"
      ],
      "metadata": {
        "id": "ThWMlVP-xmVg"
      }
    },
    {
      "cell_type": "code",
      "source": [
        "compnum=50\n",
        "guess=int(input(\"Enter the number to guess: \"))\n",
        "count=1\n",
        "while(guess!=compnum):\n",
        "  if(guess<compnum):\n",
        "    print(\"Too low\")\n",
        "  else:\n",
        "    print(\"Too high\")\n",
        "  count=count+1     \n",
        "  guess=int(input(\"Enter the number to guess: \"))\n",
        "print(\"Well done, you took\",count, \"attempts\")  \n"
      ],
      "metadata": {
        "colab": {
          "base_uri": "https://localhost:8080/"
        },
        "id": "Q-e4UA3TxbiX",
        "outputId": "75259944-6539-4764-b957-783c80a63863"
      },
      "execution_count": null,
      "outputs": [
        {
          "output_type": "stream",
          "name": "stdout",
          "text": [
            "Enter the number to guess: 21\n",
            "Too low\n",
            "Enter the number to guess: 50\n",
            "Well done, you took 2 attempts\n"
          ]
        }
      ]
    },
    {
      "cell_type": "markdown",
      "source": [
        "### **6.Ask the user to enter a number between 10 and 20. If they enter a value under 10, display the message “Too low” and ask them to try again. If they enter a value above 20, display the message “Too high” and ask them to try again. Keep repeating this until they enter a value that is between 10 and 20 and then display the message “Thank you”.**"
      ],
      "metadata": {
        "id": "-I_EeECCFnmi"
      }
    },
    {
      "cell_type": "code",
      "source": [
        "num=int(input(\"Enter the number between 10 and 20 : \"))\n",
        "while(num<10 or num>20):\n",
        "  if num<10:\n",
        "    print(\"Too low\")\n",
        "  elif num>20:\n",
        "    print(\"Too high\")\n",
        "  num=int(input(\"Enter the number Again: \"))\n",
        "print(\"Thank you\")\n"
      ],
      "metadata": {
        "id": "xJhPClGGFuVx",
        "colab": {
          "base_uri": "https://localhost:8080/"
        },
        "outputId": "45ecec6a-398e-4b9f-cb79-a42063cedcee"
      },
      "execution_count": 1,
      "outputs": [
        {
          "output_type": "stream",
          "name": "stdout",
          "text": [
            "Enter the number between 10 and 20 : 9\n",
            "Too low\n",
            "Enter the number Again: 21\n",
            "Too high\n",
            "Enter the number Again: 15\n",
            "Thank you\n"
          ]
        }
      ]
    },
    {
      "cell_type": "markdown",
      "source": [
        "### **7. Using the song “10 green bottles”, display the lines “There are [num] green bottles hanging on the wall, [num] green bottles hanging on the wall, and if 1 green bottle should accidentally fall”. Then ask the question “how many green bottles will be hanging on the wall?” If the user answers correctly, display the message “There will be [num] green bottles hanging on the wall”. If they answer incorrectly, display the message “No, try again” until they get it right. When the number of green bottles gets down to 0, display the message “There are no more green bottles hanging on the wall”.**"
      ],
      "metadata": {
        "id": "jvYqjjCDiFIk"
      }
    },
    {
      "cell_type": "code",
      "source": [
        "num=int(input(\"how many green bottles will be there?\"))\n",
        "while num>0:\n",
        "  print(\"There are \",num,\" green bottles hanging on the wall.\")\n",
        "  print(num,\" green bottles hanging on the wall\")\n",
        "  print(\"if 1 green bottle should accidentally fall\")\n",
        "  num = num-1\n",
        "  ans=int(input(\"how many green bottles will be hanging on the wall?\"))\n",
        "  if ans == num:\n",
        "    print(\"There will be \",num,\" green bottles hanging on the wall\")\n",
        "  else:\n",
        "    while ans != num:\n",
        "      print(\"No, try again\")\n",
        "print(\"There are no more green bottles hanging on the wall.\")\n",
        "\n"
      ],
      "metadata": {
        "id": "jAE5MNiziXi9",
        "colab": {
          "base_uri": "https://localhost:8080/"
        },
        "outputId": "8e39fc7a-0542-4a55-8645-e8255047cf51"
      },
      "execution_count": 14,
      "outputs": [
        {
          "output_type": "stream",
          "name": "stdout",
          "text": [
            "how many green bottles will be there?3\n",
            "There are  3  green bottles hanging on the wall.\n",
            "3  green bottles hanging on the wall\n",
            "if 1 green bottle should accidentally fall\n",
            "how many green bottles will be hanging on the wall?2\n",
            "There will be  2  green bottles hanging on the wall\n",
            "There are  2  green bottles hanging on the wall.\n",
            "2  green bottles hanging on the wall\n",
            "if 1 green bottle should accidentally fall\n",
            "how many green bottles will be hanging on the wall?1\n",
            "There will be  1  green bottles hanging on the wall\n",
            "There are  1  green bottles hanging on the wall.\n",
            "1  green bottles hanging on the wall\n",
            "if 1 green bottle should accidentally fall\n",
            "how many green bottles will be hanging on the wall?0\n",
            "There will be  0  green bottles hanging on the wall\n",
            "There are no more green bottles hanging on the wall.\n"
          ]
        }
      ]
    },
    {
      "cell_type": "markdown",
      "source": [
        "### **8.Display a random integer between 1 and 100 inclusive**"
      ],
      "metadata": {
        "id": "L4wcTwXN2jdU"
      }
    },
    {
      "cell_type": "code",
      "source": [
        "import random\n",
        "num=random.randint(1,100)\n",
        "print(num)"
      ],
      "metadata": {
        "colab": {
          "base_uri": "https://localhost:8080/"
        },
        "id": "Ikaf72VSB9ON",
        "outputId": "58a6dc11-bd36-4eeb-8c31-ef5c27adc9be"
      },
      "execution_count": 9,
      "outputs": [
        {
          "output_type": "stream",
          "name": "stdout",
          "text": [
            "97\n"
          ]
        }
      ]
    },
    {
      "cell_type": "markdown",
      "source": [
        "### **9. Display a random fruit from a list of five fruits.**"
      ],
      "metadata": {
        "id": "FuWgwErJEfKi"
      }
    },
    {
      "cell_type": "code",
      "source": [
        "import random\n",
        "mylist=['apple','orange','grape','bananas','strawberry']\n",
        "fruit=random.choice(mylist)\n",
        "print(fruit)"
      ],
      "metadata": {
        "colab": {
          "base_uri": "https://localhost:8080/"
        },
        "id": "KJdPrrrkEmaD",
        "outputId": "8f899d00-522c-4b8e-ae9b-5abd5821af1e"
      },
      "execution_count": 16,
      "outputs": [
        {
          "output_type": "stream",
          "name": "stdout",
          "text": [
            "bananas\n"
          ]
        }
      ]
    },
    {
      "cell_type": "markdown",
      "source": [
        "### **10.  Randomly choose either heads or tails (“h” or “t”). Ask the user to make their choice. If their choice is the same as the randomly selected value, display the message “You win”, otherwise display “Bad luck”. At the end, tell the user if the computer selected heads or tails**. "
      ],
      "metadata": {
        "id": "ExT4LHMxNGQV"
      }
    },
    {
      "cell_type": "code",
      "source": [
        "import random\n",
        "coin=random.choice(['h','t'])\n",
        "guess=input(\"Enter (h)heads or (t)tails:\")\n",
        "if(guess==coin):\n",
        "  print(\"You Win\")\n",
        "else:\n",
        "  print(\"Bad Luck\")\n",
        "if(coin=='h'):\n",
        "  print(\"It is head\")\n",
        "else:\n",
        "  print(\"It is tail\")   "
      ],
      "metadata": {
        "colab": {
          "base_uri": "https://localhost:8080/"
        },
        "id": "RJuh0tdCNuJ1",
        "outputId": "e341619b-0593-4f6e-eced-1d94cbc302b6"
      },
      "execution_count": 7,
      "outputs": [
        {
          "output_type": "stream",
          "name": "stdout",
          "text": [
            "Enter (h)heads or (t)tails:h\n",
            "You Win\n",
            "It is head\n"
          ]
        }
      ]
    },
    {
      "cell_type": "code",
      "source": [
        "import random\n",
        "coin=random.choice(['h','t'])\n",
        "guess=input(\"Enter (h)heads or (t)tails:\")\n",
        "if(guess==coin):\n",
        "  print(\"You Win\")\n",
        "else:\n",
        "  print(\"Bad Luck\")\n",
        "if(coin=='h'):\n",
        "  print(\"It is head\")\n",
        "else:\n",
        "  print(\"It is tail\")"
      ],
      "metadata": {
        "colab": {
          "base_uri": "https://localhost:8080/"
        },
        "id": "KLRt4zOENM2V",
        "outputId": "5550db65-4e03-4fb3-feb8-4c070dc2e2d3"
      },
      "execution_count": 8,
      "outputs": [
        {
          "output_type": "stream",
          "name": "stdout",
          "text": [
            "Enter (h)heads or (t)tails:t\n",
            "Bad Luck\n",
            "It is head\n"
          ]
        }
      ]
    },
    {
      "cell_type": "markdown",
      "source": [
        "### **11.  Randomly choose a number between 1 and 5. Ask the user to pick a number. If they guess correctly, display the message “Well done”, otherwise tell them if they are too high or too low and ask them to pick a second number. If they guess correctly on their second guess, display “Correct”, otherwise display “You lose”**. "
      ],
      "metadata": {
        "id": "-p4zD29oQa0y"
      }
    },
    {
      "cell_type": "code",
      "source": [
        "import random\n",
        "randomNumber = random.randrange(1,5)\n",
        "print(\"Randomly choose a number between 1 and 5\")\n",
        "num = int(input(\"Enter a number : \"))\n",
        "if num==randomNumber:\n",
        "    print(\"Well done!\")\n",
        "    if num>5:\n",
        "        print(\"too lower\")\n",
        "    else:\n",
        "        print(\"too higher\")\n",
        "else:\n",
        "  num2=int(input(\"Enter a second number :\"))\n",
        "  if num2==randomNumber:\n",
        "   print(\"Correct\")\n",
        "  else:\n",
        "   print(\"You lose\")\n"
      ],
      "metadata": {
        "colab": {
          "base_uri": "https://localhost:8080/"
        },
        "id": "eLJR_5P_UI5h",
        "outputId": "fcae78e3-15c2-48d0-d929-2d09ae51e2ae"
      },
      "execution_count": 9,
      "outputs": [
        {
          "output_type": "stream",
          "name": "stdout",
          "text": [
            "Randomly choose a number between 1 and 5\n",
            "Enter a number : 5\n",
            "Enter a second number :1\n",
            "Correct\n"
          ]
        }
      ]
    },
    {
      "cell_type": "markdown",
      "source": [
        "### **12.Randomly pick a whole number between 1 and 10. Ask the user to enter a number and keep entering numbers until they enter the number that was randomly picked**."
      ],
      "metadata": {
        "id": "idwWQn4zUFBJ"
      }
    },
    {
      "cell_type": "code",
      "source": [
        "import random\n",
        "num=random.randint(1,10)\n",
        "ct=False\n",
        "while(ct==False):\n",
        "  guess=int(input(\"Enter a number: \"))\n",
        "  if(guess==num):\n",
        "    ct=True\n",
        "print(\"Guess=\",guess, \"Num=\",num) "
      ],
      "metadata": {
        "colab": {
          "base_uri": "https://localhost:8080/"
        },
        "id": "-q4AES3OQtJc",
        "outputId": "2a25721b-23ff-482b-a6af-df8586a703e4"
      },
      "execution_count": 11,
      "outputs": [
        {
          "output_type": "stream",
          "name": "stdout",
          "text": [
            "Enter a number: 3\n",
            "Enter a number: 9\n",
            "Enter a number: 4\n",
            "Guess= 4 Num= 4\n"
          ]
        }
      ]
    },
    {
      "cell_type": "markdown",
      "source": [
        "### **13. Update program 56 so that it tells the user if they are too high or too low before they pick again**. "
      ],
      "metadata": {
        "id": "fRxLRp1puIaV"
      }
    },
    {
      "cell_type": "code",
      "source": [
        "import random\n",
        "num=random.randint(1,10)\n",
        "ct=False\n",
        "while(ct==False):\n",
        "  guess=int(input(\"Enter a number: \"))\n",
        "  if(guess<num):\n",
        "    print(\"Too low\")\n",
        "  elif(guess>num):\n",
        "    print(\"Too High\")  \n",
        "  if(guess==num):\n",
        "    ct=True\n",
        "print(\"Guess=\",guess, \"Num=\",num) "
      ],
      "metadata": {
        "colab": {
          "base_uri": "https://localhost:8080/"
        },
        "id": "05faJoHguwZf",
        "outputId": "ef947a27-91cd-4935-ef91-1076c6045759"
      },
      "execution_count": 11,
      "outputs": [
        {
          "output_type": "stream",
          "name": "stdout",
          "text": [
            "Enter a number: 5\n",
            "Too High\n",
            "Enter a number: 2\n",
            "Too High\n",
            "Enter a number: 1\n",
            "Guess= 1 Num= 1\n"
          ]
        }
      ]
    },
    {
      "cell_type": "markdown",
      "source": [
        "### **14.Make a maths quiz that asks five questions by randomly generating two whole numbers to make the question (e.g. [num1] + [num2]). Ask the user to enter the answer. If they get it right add a point to their score. At the end of the quiz, tell them how many they got correct out of five**. "
      ],
      "metadata": {
        "id": "CAdggCWavKjc"
      }
    },
    {
      "cell_type": "code",
      "source": [
        "import random\n",
        "score=0\n",
        "for i in range(1,6):\n",
        "  num1=random.randint(1,50)\n",
        "  num2=random.randint(1,50)\n",
        "  correct=num1+num2\n",
        "  print(num1,\"+\",num2,\"= \")\n",
        "  answer=int(input(\"Your Answer: \"))\n",
        "  print()\n",
        "  if(answer==correct):\n",
        "    score=score+1\n",
        "print(\"You scored\",score,\"out of 5\")"
      ],
      "metadata": {
        "colab": {
          "base_uri": "https://localhost:8080/"
        },
        "id": "M_90UHUovRh0",
        "outputId": "13eb7b76-9cde-4b6f-c3b3-c8696636c39f"
      },
      "execution_count": 12,
      "outputs": [
        {
          "output_type": "stream",
          "name": "stdout",
          "text": [
            "34 + 46 = \n",
            "Your Answer: 80\n",
            "\n",
            "28 + 3 = \n",
            "Your Answer: 31\n",
            "\n",
            "31 + 6 = \n",
            "Your Answer: 37\n",
            "\n",
            "22 + 12 = \n",
            "Your Answer: 34\n",
            "\n",
            "37 + 37 = \n",
            "Your Answer: 74\n",
            "\n",
            "You scored 5 out of 5\n"
          ]
        }
      ]
    },
    {
      "cell_type": "markdown",
      "source": [
        "### **15.Display five colours and ask the user to pick one. If they pick the same as the program has chosen, say “Well done”, otherwise display a witty answer which involves the correct colour, e.g. “I bet you are GREEN with envy” or “You are probably feeling BLUE right now”. Ask them to guess again; if they have still not got it right, keep giving them the same clue and ask the user to enter a colour until they guess it correctly**."
      ],
      "metadata": {
        "id": "GPjde_48vs-D"
      }
    },
    {
      "cell_type": "code",
      "source": [
        "import random\n",
        "color=random.choice(['red','blue','green','white','pink'])\n",
        "tryagain=True\n",
        "while(tryagain==True):\n",
        "  usercolor=input(\"Enter your color: \")\n",
        "  usercolor=usercolor.lower()\n",
        "  if(color==usercolor):\n",
        "    print(\"Well done\")\n",
        "    tryagain=False\n",
        "  else:\n",
        "    if(color=='red'):\n",
        "      print(\"It was red\")\n",
        "    elif(color=='blue'):\n",
        "      print(\"It was blue\")\n",
        "    elif(color=='green'):\n",
        "      print(\"It was green\")\n",
        "    elif(color=='white'):\n",
        "      print(\"It was white\")\n",
        "    elif(color=='pink'):\n",
        "      print(\"It was pink\")    "
      ],
      "metadata": {
        "colab": {
          "base_uri": "https://localhost:8080/"
        },
        "id": "FKOwCSPpvzFT",
        "outputId": "ead38c74-ead3-4455-cfdd-cdbc29fc971c"
      },
      "execution_count": 14,
      "outputs": [
        {
          "output_type": "stream",
          "name": "stdout",
          "text": [
            "Enter your color: blue\n",
            "It was pink\n",
            "Enter your color: red\n",
            "It was pink\n",
            "Enter your color: pink\n",
            "Well done\n"
          ]
        }
      ]
    }
  ]
}