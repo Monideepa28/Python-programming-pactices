{
  "nbformat": 4,
  "nbformat_minor": 0,
  "metadata": {
    "colab": {
      "provenance": [],
      "collapsed_sections": [],
      "authorship_tag": "ABX9TyNK7NoBT08UX3/5jajdEFwp",
      "include_colab_link": true
    },
    "kernelspec": {
      "name": "python3",
      "display_name": "Python 3"
    },
    "language_info": {
      "name": "python"
    }
  },
  "cells": [
    {
      "cell_type": "markdown",
      "metadata": {
        "id": "view-in-github",
        "colab_type": "text"
      },
      "source": [
        "<a href=\"https://colab.research.google.com/github/Monideepa28/Python-programming-pactices/blob/main/11_09_2022Python.ipynb\" target=\"_parent\"><img src=\"https://colab.research.google.com/assets/colab-badge.svg\" alt=\"Open In Colab\"/></a>"
      ]
    },
    {
      "cell_type": "markdown",
      "source": [
        "# ***Some challenges***"
      ],
      "metadata": {
        "id": "8atXm8pJSgeZ"
      }
    },
    {
      "cell_type": "markdown",
      "source": [
        "# 1.Ask the user to enter their first name and then display the length of their name."
      ],
      "metadata": {
        "id": "qilKQqYwXM5i"
      }
    },
    {
      "cell_type": "code",
      "execution_count": null,
      "metadata": {
        "colab": {
          "base_uri": "https://localhost:8080/"
        },
        "id": "zgme-i6XXDOc",
        "outputId": "17de18c6-866a-481f-9c29-50bdb6ceb175"
      },
      "outputs": [
        {
          "output_type": "stream",
          "name": "stdout",
          "text": [
            "Enter your first name:Monideepa\n",
            "Monideepa\n",
            "9\n"
          ]
        }
      ],
      "source": [
        "fn=input(\"Enter your first name:\")\n",
        "print(fn)\n",
        "print(len(fn))"
      ]
    },
    {
      "cell_type": "markdown",
      "source": [
        "# 2.Ask the user to enter their first name and then ask them to enter their surname. Join them together with a space between and display the name and the length of whole name. "
      ],
      "metadata": {
        "id": "spA53gNgYsUZ"
      }
    },
    {
      "cell_type": "code",
      "source": [
        "fn=input(\"Enter your first name:\")\n",
        "sn=input(\"Enter your surname:\")\n",
        "print(fn+\" \"+sn)\n",
        "name=(fn+\" \"+sn)\n",
        "print(len(name))"
      ],
      "metadata": {
        "colab": {
          "base_uri": "https://localhost:8080/"
        },
        "id": "YUfFMhKoS2Vy",
        "outputId": "92f55d9e-ef7e-475c-d31f-d8cd99d22cf2"
      },
      "execution_count": null,
      "outputs": [
        {
          "output_type": "stream",
          "name": "stdout",
          "text": [
            "Enter your first name:Monnideepa\n",
            "Enter your surname:Saha\n",
            "Monnideepa Saha\n",
            "15\n"
          ]
        }
      ]
    },
    {
      "cell_type": "markdown",
      "source": [
        "# 3.Ask the user to enter their first name and surname in lower case. Change the case to title case and join them together.Display the finished result.\n",
        "\n",
        "monideepa--lower() ; \n",
        "MONIDEEPA-upper() ;\n",
        "Monideepa---title()"
      ],
      "metadata": {
        "id": "pktJlblHTjKZ"
      }
    },
    {
      "cell_type": "code",
      "source": [
        "fn=input(\"Enter your first name:\")\n",
        "sn=input(\"Enter your surname:\")\n",
        "fn=fn.title()\n",
        "sn=sn.title()\n",
        "name=fn+\" \"+sn\n",
        "print(name)"
      ],
      "metadata": {
        "colab": {
          "base_uri": "https://localhost:8080/"
        },
        "id": "E5GUmmx0TndQ",
        "outputId": "d7ff3a71-7353-4b39-fc06-dca7372b812b"
      },
      "execution_count": null,
      "outputs": [
        {
          "output_type": "stream",
          "name": "stdout",
          "text": [
            "Enter your first name:MONIDEEPA\n",
            "Enter your surname:saha\n",
            "Monideepa Saha\n"
          ]
        }
      ]
    },
    {
      "cell_type": "markdown",
      "source": [
        "# 4.Ask the user to type in the first line of a nursery rhyme and display the length of the string. Ask for a starting number and an ending number and then display just that section of the text (remember Python starts counting from 0 and not 1)."
      ],
      "metadata": {
        "id": "jsI7iz7xd6hh"
      }
    },
    {
      "cell_type": "code",
      "source": [
        "rh=input(\"the first line of a nursery rhyme:\")\n",
        "print(len(rh))\n",
        "n1=int(input(\"Starting number:\"))\n",
        "n2=int(input(\"Ending number:\"))\n",
        "part=rh[n1:n2]\n",
        "print(part)"
      ],
      "metadata": {
        "colab": {
          "base_uri": "https://localhost:8080/"
        },
        "id": "9isRq5pPeXjQ",
        "outputId": "79f1aff6-a82b-46ea-916a-1448ca5b861a"
      },
      "execution_count": null,
      "outputs": [
        {
          "output_type": "stream",
          "name": "stdout",
          "text": [
            "the first line of a nursery rhyme:Twinkle twinkle little star\n",
            "27\n",
            "Starting number:15\n",
            "Ending number:27\n",
            " little star\n"
          ]
        }
      ]
    },
    {
      "cell_type": "markdown",
      "source": [
        "# 5.  Ask the user to type in any word and display it in upper case."
      ],
      "metadata": {
        "id": "GhwEfzBGrcER"
      }
    },
    {
      "cell_type": "code",
      "source": [
        "word=input(\"Enter the any word:\")\n",
        "print(word.upper())"
      ],
      "metadata": {
        "colab": {
          "base_uri": "https://localhost:8080/"
        },
        "id": "uIVcnpHErkcJ",
        "outputId": "8770f80e-a733-4c1d-b64a-6b7b40a44733"
      },
      "execution_count": null,
      "outputs": [
        {
          "output_type": "stream",
          "name": "stdout",
          "text": [
            "Enter the any word:monideepa\n",
            "MONIDEEPA\n"
          ]
        }
      ]
    },
    {
      "cell_type": "markdown",
      "source": [
        "# 6.Ask the user to enter their first name. If the length of their first name is under five characters, ask them to enter their surname and join them together (without a space) and display the name in upper case. If the length of the first name is five or more characters, display their first name in lower case."
      ],
      "metadata": {
        "id": "HDt2yUDk89jR"
      }
    },
    {
      "cell_type": "code",
      "source": [
        "fn=input(\"Enter the first name: \")\n",
        "length=len(fn)\n",
        "if(length<5):\n",
        " sn=input(\"Enter the surname: \")\n",
        " name=(fn+sn)\n",
        " print(name.upper())\n",
        "else:\n",
        "  print(fn.lower())"
      ],
      "metadata": {
        "colab": {
          "base_uri": "https://localhost:8080/"
        },
        "id": "iviEvb4E9IrA",
        "outputId": "cd078636-0c9a-4fc7-cce4-1466da961f96"
      },
      "execution_count": null,
      "outputs": [
        {
          "output_type": "stream",
          "name": "stdout",
          "text": [
            "Enter the first name: moon\n",
            "Enter the surname: Saha\n",
            "MOONSAHA\n"
          ]
        }
      ]
    },
    {
      "cell_type": "code",
      "source": [
        "fn=input(\"Enter the first name: \")\n",
        "length=len(fn)\n",
        "if(length<5):\n",
        " sn=input(\"Enter the surname: \")\n",
        " name=(fn+sn)\n",
        " print(name.upper())\n",
        "else:\n",
        "  print(fn.lower())"
      ],
      "metadata": {
        "colab": {
          "base_uri": "https://localhost:8080/"
        },
        "id": "XdrAPbl3H3B5",
        "outputId": "2e1fa138-b072-46fc-dc40-e99399ebdfb2"
      },
      "execution_count": null,
      "outputs": [
        {
          "output_type": "stream",
          "name": "stdout",
          "text": [
            "Enter the first name: Monideepa\n",
            "monideepa\n"
          ]
        }
      ]
    },
    {
      "cell_type": "markdown",
      "source": [
        "# 7.Pig Latin takes the first consonant of a word,moves it to the end of the word and adds on an \"ay\". If a word begins with a vowel you just add \"way\" to the end. For example, pig becomes igpay, banana becomes ananabay, and aadvark becomes aadvarkway. Create a program that will ask the user to enter a word and change it into Pig Latin. Make sure the new word is displayed in lower case."
      ],
      "metadata": {
        "id": "pG1OOBkPMWNJ"
      }
    },
    {
      "cell_type": "code",
      "source": [
        "word=input(\"Enter a word:\")\n",
        "fc=word[0]\n",
        "print(fc)\n",
        "rest=word[1:len(word)]\n",
        "print(rest)\n",
        "vw=('A' or 'a' or 'E' or 'e' or 'I' or 'i' or 'O' or 'o' or 'U' or 'u')\n",
        "if(fc!=vw):\n",
        "  newword=rest+fc+'ay'\n",
        "  print(newword)\n",
        "else:\n",
        "  newword1=word+'way'\n",
        "  print(newword1)"
      ],
      "metadata": {
        "colab": {
          "base_uri": "https://localhost:8080/"
        },
        "id": "BQtX7kGQMeyZ",
        "outputId": "cf8cf8a6-19b5-4e58-864e-883c4b027eeb"
      },
      "execution_count": null,
      "outputs": [
        {
          "output_type": "stream",
          "name": "stdout",
          "text": [
            "Enter a word:Ani\n",
            "A\n",
            "ni\n",
            "Aniway\n"
          ]
        }
      ]
    },
    {
      "cell_type": "code",
      "source": [
        "word=input(\"Enter a word:\")\n",
        "fc=word[0]\n",
        "print(fc)\n",
        "rest=word[1:len(word)]\n",
        "print(rest)\n",
        "vw=('A' or 'a' or 'E' or 'e' or 'I' or 'i' or 'O' or 'o' or 'U' or 'u')\n",
        "if(fc!=vw):\n",
        "  newword=rest+fc+'ay'\n",
        "  print(newword)\n",
        "else:\n",
        "  newword1=word+'way'\n",
        "  print(newword1)"
      ],
      "metadata": {
        "colab": {
          "base_uri": "https://localhost:8080/"
        },
        "id": "6zHG136tRI-6",
        "outputId": "2bd4388e-88e6-4eea-825b-50df91c6f06b"
      },
      "execution_count": null,
      "outputs": [
        {
          "output_type": "stream",
          "name": "stdout",
          "text": [
            "Enter a word:Monideepa\n",
            "M\n",
            "onideepa\n",
            "onideepaMay\n"
          ]
        }
      ]
    },
    {
      "cell_type": "markdown",
      "source": [
        "# 8.Ask the user to enter a number with lots of decimal places. Multiply this number by two and display the answer. "
      ],
      "metadata": {
        "id": "bqxWawg4RNnp"
      }
    },
    {
      "cell_type": "code",
      "source": [
        "num=float(input(\"Enter the float number:\"))\n",
        "print(num*2)"
      ],
      "metadata": {
        "colab": {
          "base_uri": "https://localhost:8080/"
        },
        "id": "zt9coIubRTxI",
        "outputId": "8c240b8c-2b7e-45bf-c04e-5f00c0ce821a"
      },
      "execution_count": null,
      "outputs": [
        {
          "output_type": "stream",
          "name": "stdout",
          "text": [
            "Enter the float number:4.7685\n",
            "9.537\n"
          ]
        }
      ]
    },
    {
      "cell_type": "markdown",
      "source": [
        "# 9.Update program 27 so that it will display the answer to two decimal places. "
      ],
      "metadata": {
        "id": "7MGb6ptlWUSy"
      }
    },
    {
      "cell_type": "code",
      "source": [
        "num=float(input(\"Enter the float number:\"))\n",
        "print(num*2)\n",
        "print(round(num*2,2))"
      ],
      "metadata": {
        "colab": {
          "base_uri": "https://localhost:8080/"
        },
        "id": "2zncYRjxWXAy",
        "outputId": "66a8b36c-5080-401d-d060-592dfc453228"
      },
      "execution_count": null,
      "outputs": [
        {
          "output_type": "stream",
          "name": "stdout",
          "text": [
            "Enter the float number:34.879005\n",
            "69.75801\n",
            "69.76\n"
          ]
        }
      ]
    },
    {
      "cell_type": "markdown",
      "source": [
        "# 10.Ask the user to enter an integer that is over 500. Work out the square root of that number and display it to two decimal places. "
      ],
      "metadata": {
        "id": "mSW1R5amYjLp"
      }
    },
    {
      "cell_type": "code",
      "source": [
        "import math\n",
        "num=int(input(\"Enter an integer no: \"))\n",
        "if(num>500):\n",
        "  sroot=math.sqrt(num)\n",
        "  print(sroot)\n",
        "  print(round(sroot,2))\n",
        "else:\n",
        "  print(\"Please enter the number greater than 500\")  "
      ],
      "metadata": {
        "colab": {
          "base_uri": "https://localhost:8080/"
        },
        "id": "hKieG7mSYq9q",
        "outputId": "ca1a93df-7cbe-431e-db33-df521436fc68"
      },
      "execution_count": null,
      "outputs": [
        {
          "output_type": "stream",
          "name": "stdout",
          "text": [
            "Enter an integer no: 524\n",
            "22.891046284519195\n",
            "22.89\n"
          ]
        }
      ]
    },
    {
      "cell_type": "markdown",
      "source": [
        "# 11.Display pi (π) to five decimal places."
      ],
      "metadata": {
        "id": "01g7qY9XXFvS"
      }
    },
    {
      "cell_type": "code",
      "source": [
        "import math\n",
        "print(math.pi)\n",
        "print(round(math.pi,5))"
      ],
      "metadata": {
        "colab": {
          "base_uri": "https://localhost:8080/"
        },
        "id": "g56BposWX5_s",
        "outputId": "2d0e2d92-7881-4d69-bece-cec90621c5b9"
      },
      "execution_count": null,
      "outputs": [
        {
          "output_type": "stream",
          "name": "stdout",
          "text": [
            "3.141592653589793\n",
            "3.14159\n"
          ]
        }
      ]
    },
    {
      "cell_type": "markdown",
      "source": [
        "# 12.Ask the user to enter the radius of a circle (measurement from the centre point to the edge). Work out the area of the circle (π*radius^2)."
      ],
      "metadata": {
        "id": "AI5F9PpVZyy6"
      }
    },
    {
      "cell_type": "code",
      "source": [
        "import math\n",
        "radius=int(input(\"Enter the redius of circle : \"))\n",
        "area= math.pi*(radius**2)\n",
        "print(area)"
      ],
      "metadata": {
        "id": "R0g2aKZcmkMU",
        "colab": {
          "base_uri": "https://localhost:8080/"
        },
        "outputId": "a44665a4-f665-4fc7-f6b9-d9ccb5f17199"
      },
      "execution_count": null,
      "outputs": [
        {
          "output_type": "stream",
          "name": "stdout",
          "text": [
            "Enter the redius of circle : 3\n",
            "28.274333882308138\n"
          ]
        }
      ]
    },
    {
      "cell_type": "markdown",
      "source": [
        "# 13. Ask for the radius and the depth of a cylinder and work out the total volume (circle area*depth) rounded to three decimal places. "
      ],
      "metadata": {
        "id": "17zIKqaeZ9PD"
      }
    },
    {
      "cell_type": "code",
      "source": [
        "import math\n",
        "radius=int(input(\"Enter the redius of circle : \"))\n",
        "depth=int(input(\"Enter the depth of cicle :\"))\n",
        "area= math.pi*(radius**2)\n",
        "volume=area*depth\n",
        "print(round(volume,3))"
      ],
      "metadata": {
        "colab": {
          "base_uri": "https://localhost:8080/"
        },
        "id": "KCJjjCq5aD_7",
        "outputId": "92e0ab0c-1752-46c0-c085-83a9426b9d0a"
      },
      "execution_count": null,
      "outputs": [
        {
          "output_type": "stream",
          "name": "stdout",
          "text": [
            "Enter the redius of circle : 3\n",
            "Enter the depth of cicle :2\n",
            "56.549\n"
          ]
        }
      ]
    },
    {
      "cell_type": "markdown",
      "source": [
        "# 14. Ask the user to enter two numbers.Use whole number division to divide the first number by the second and also work out the remainder and display the answer in a user-friendly way (e.g. if they enter 7 and 2 display \"7 divided by 2 is 3 with 1 remaining\"). "
      ],
      "metadata": {
        "id": "xllsz8UbcNHT"
      }
    },
    {
      "cell_type": "code",
      "source": [
        "fn=int(input(\"Enter a no:\"))\n",
        "sn=int(input(\"Again enter a no:\"))\n",
        "quotient= fn//sn\n",
        "remainder=fn%sn\n",
        "print(fn,\"divided by\",sn,\"is\",quotient,\"with\",remainder,\"remaining\")"
      ],
      "metadata": {
        "colab": {
          "base_uri": "https://localhost:8080/"
        },
        "id": "yHkHEosLcSvC",
        "outputId": "b6e2d794-6f64-4635-bdbf-3b1ebf4870eb"
      },
      "execution_count": null,
      "outputs": [
        {
          "output_type": "stream",
          "name": "stdout",
          "text": [
            "Enter a no:7\n",
            "Again enter a no:2\n",
            "7 divided by 2 is 3 with 1 remaining\n"
          ]
        }
      ]
    },
    {
      "cell_type": "markdown",
      "source": [
        "# 15. Display the following message: \n",
        "#  1) Square\n",
        "#\t 2) triangle\n",
        "#\tEnter a number: \n",
        "#\t  If the user enters 1, then it should ask them for the length of one of its sides and display the area. If they select 2, it should ask for the base and height of the triangle and display the area. If they type in anything else, it should give them a suitable error message."
      ],
      "metadata": {
        "id": "yPO-kdkgiOIz"
      }
    },
    {
      "cell_type": "code",
      "source": [
        "print(\"1) Square\")\n",
        "print(\"2) Triangle\")\n",
        "print()\n",
        "selection=int(input(\"Enter a number:\"))\n",
        "if(selection==1):\n",
        "  side=int(input(\"Enter the side of the Square:\"))\n",
        "  area=side**2\n",
        "  print(\"The area of the square is: \", area)\n",
        "\n",
        "elif(selection==2):\n",
        "  base=int(input(\"Enter the base of the triangle:\"))\n",
        "  height=int(input(\"Enter the height of the triangle:\"))\n",
        "  area=0.5*base*height \n",
        "  print(\"The area of the Triangle is: \",area)\n",
        "\n",
        "else:\n",
        "  print(\"it is a wrong number\")     "
      ],
      "metadata": {
        "colab": {
          "base_uri": "https://localhost:8080/"
        },
        "id": "fyRtsjt1iuJL",
        "outputId": "3ad50b71-fa19-455c-cb66-487cdcc43e73"
      },
      "execution_count": null,
      "outputs": [
        {
          "output_type": "stream",
          "name": "stdout",
          "text": [
            "1) Square\n",
            "2) Triangle\n",
            "\n",
            "Enter a number:2\n",
            "Enter the base of the triangle:12\n",
            "Enter the height of the triangle:2\n",
            "The area of the Triangle is:  12.0\n"
          ]
        }
      ]
    },
    {
      "cell_type": "markdown",
      "source": [
        "# 16. Ask the user to enter their name and then display their name three times. "
      ],
      "metadata": {
        "id": "HW_h_QXHiTeE"
      }
    },
    {
      "cell_type": "code",
      "source": [
        "name=input(\"Enter your name:\")\n",
        "print(name*3)"
      ],
      "metadata": {
        "colab": {
          "base_uri": "https://localhost:8080/"
        },
        "id": "nJfSxRoOrs-e",
        "outputId": "71943942-90ac-4614-faee-8082cf129896"
      },
      "execution_count": null,
      "outputs": [
        {
          "output_type": "stream",
          "name": "stdout",
          "text": [
            "Enter your name:Monideepa\n",
            "MonideepaMonideepaMonideepa\n"
          ]
        }
      ]
    },
    {
      "cell_type": "markdown",
      "source": [
        "# 17. Alter program 035 so that it will ask the user to enter their name and a number and then display their name that number of times. "
      ],
      "metadata": {
        "id": "mmSTIrCeiZRU"
      }
    },
    {
      "cell_type": "code",
      "source": [
        "name=input(\"Enter your name:\")\n",
        "num=int(input(\"Enter the number:\"))\n",
        "print(name*num)"
      ],
      "metadata": {
        "colab": {
          "base_uri": "https://localhost:8080/"
        },
        "id": "Pj1pWtBbrzed",
        "outputId": "48e9c386-e754-459d-ff56-d6037c8d9b40"
      },
      "execution_count": null,
      "outputs": [
        {
          "output_type": "stream",
          "name": "stdout",
          "text": [
            "Enter your name:Monideepa\n",
            "Enter the number:12\n",
            "MonideepaMonideepaMonideepaMonideepaMonideepaMonideepaMonideepaMonideepaMonideepaMonideepaMonideepaMonideepa\n"
          ]
        }
      ]
    },
    {
      "cell_type": "markdown",
      "source": [
        "# 18.Ask the user to enter their name and display each letter in their name on a separate line. "
      ],
      "metadata": {
        "id": "NmsGtRsXidEM"
      }
    },
    {
      "cell_type": "code",
      "source": [
        "name=input(\"Enter your name:\")\n",
        "for i in range(len(name)):\n",
        "  print(name[i])"
      ],
      "metadata": {
        "colab": {
          "base_uri": "https://localhost:8080/"
        },
        "id": "-B3zPOkqr-ZN",
        "outputId": "d930eb63-de5f-4634-f502-9da5d3b350a3"
      },
      "execution_count": null,
      "outputs": [
        {
          "output_type": "stream",
          "name": "stdout",
          "text": [
            "Enter your name:Monideepa Saha\n",
            "M\n",
            "o\n",
            "n\n",
            "i\n",
            "d\n",
            "e\n",
            "e\n",
            "p\n",
            "a\n",
            " \n",
            "S\n",
            "a\n",
            "h\n",
            "a\n"
          ]
        }
      ]
    },
    {
      "cell_type": "markdown",
      "source": [
        "# 19.Change program 18 to also ask for a number. Display their name (one letter at a time on each line) and repeat this for the number of times they entered. "
      ],
      "metadata": {
        "id": "qYhRil4ZimpU"
      }
    },
    {
      "cell_type": "code",
      "source": [
        "name=input(\"Enter your name: \")\n",
        "num=int(input(\"Enter the no: \"))\n",
        "\n",
        "for num in range(0,num):\n",
        "  print(name)"
      ],
      "metadata": {
        "colab": {
          "base_uri": "https://localhost:8080/"
        },
        "id": "8rT47qhRsmQs",
        "outputId": "d4853781-21f7-4b35-f9c5-ab6ce0e0353e"
      },
      "execution_count": 11,
      "outputs": [
        {
          "output_type": "stream",
          "name": "stdout",
          "text": [
            "Enter your name: Monideepa\n",
            "Enter the no: 5\n",
            "Monideepa\n",
            "Monideepa\n",
            "Monideepa\n",
            "Monideepa\n",
            "Monideepa\n"
          ]
        }
      ]
    },
    {
      "cell_type": "markdown",
      "source": [
        "# 20.Ask the user to enter a number between 1 and 12 and then display the times table for that number. "
      ],
      "metadata": {
        "id": "xzB6jbLTsP-k"
      }
    },
    {
      "cell_type": "code",
      "source": [
        "num=int(input(\"Enter the number:\"))\n",
        "if(num>1 and num<12):\n",
        "  for i in range(1,11):\n",
        "    print(num,'X',i,\"=\",num*i)\n",
        "else:\n",
        "  print(\"Not in the range\")  "
      ],
      "metadata": {
        "colab": {
          "base_uri": "https://localhost:8080/"
        },
        "id": "RAsuAk7stbZF",
        "outputId": "8d61d46a-a9db-438a-d35e-98c9c2195c96"
      },
      "execution_count": null,
      "outputs": [
        {
          "output_type": "stream",
          "name": "stdout",
          "text": [
            "Enter the number:11\n",
            "11 X 1 = 11\n",
            "11 X 2 = 22\n",
            "11 X 3 = 33\n",
            "11 X 4 = 44\n",
            "11 X 5 = 55\n",
            "11 X 6 = 66\n",
            "11 X 7 = 77\n",
            "11 X 8 = 88\n",
            "11 X 9 = 99\n",
            "11 X 10 = 110\n"
          ]
        }
      ]
    },
    {
      "cell_type": "code",
      "source": [
        "num=int(input(\"Enter the number:\"))\n",
        "if(num>1 and num<12):\n",
        "  for i in range(1,11):\n",
        "    print(num,'X',i,\"=\",num*i)\n",
        "else:\n",
        "  print(\"Not in the range\") "
      ],
      "metadata": {
        "colab": {
          "base_uri": "https://localhost:8080/"
        },
        "id": "oy3mhlvdtngE",
        "outputId": "5bdc8e71-f0c9-4ff9-ff00-9569caea8831"
      },
      "execution_count": null,
      "outputs": [
        {
          "output_type": "stream",
          "name": "stdout",
          "text": [
            "Enter the number:12\n",
            "Not in the range\n"
          ]
        }
      ]
    },
    {
      "cell_type": "markdown",
      "source": [
        "# 21.Ask for a number below 50 and then count down from 50 to that number, making sure you show the number they entered in the output. "
      ],
      "metadata": {
        "id": "1XP9CSCvsRh1"
      }
    },
    {
      "cell_type": "code",
      "source": [
        "num=int(input(\"Enter the number below 50:\"))\n",
        "for num in range(50,num,-1):\n",
        "  print(num)"
      ],
      "metadata": {
        "id": "hozXzg5_t_qt",
        "colab": {
          "base_uri": "https://localhost:8080/"
        },
        "outputId": "60c0181f-2ddc-4451-f228-28b2e5e6ac1d"
      },
      "execution_count": 17,
      "outputs": [
        {
          "output_type": "stream",
          "name": "stdout",
          "text": [
            "Enter the number below 50:40\n",
            "50\n",
            "49\n",
            "48\n",
            "47\n",
            "46\n",
            "45\n",
            "44\n",
            "43\n",
            "42\n",
            "41\n"
          ]
        }
      ]
    },
    {
      "cell_type": "markdown",
      "source": [
        "# 22.Ask the user to enter their name and a number. If the number is less than 10, then display their name that number of times; otherwise display the message \"Too high\" three times. "
      ],
      "metadata": {
        "id": "30DNPowysVrM"
      }
    },
    {
      "cell_type": "code",
      "source": [
        "name=input(\"Enter your name: \")\n",
        "num=int(input(\"Enter the number: \"))\n",
        "if(num<10):\n",
        "  print(name*num)\n",
        "else:\n",
        "  print(\"Too high\"*3)"
      ],
      "metadata": {
        "colab": {
          "base_uri": "https://localhost:8080/"
        },
        "id": "tVM79bm8ZELJ",
        "outputId": "f1072646-230f-49dd-a819-34bb79193047"
      },
      "execution_count": null,
      "outputs": [
        {
          "output_type": "stream",
          "name": "stdout",
          "text": [
            "Enter your name: Monideepa\n",
            "Enter the number: 8\n",
            "MonideepaMonideepaMonideepaMonideepaMonideepaMonideepaMonideepaMonideepa\n"
          ]
        }
      ]
    },
    {
      "cell_type": "markdown",
      "source": [
        "# 23.Set a variable called total to 0. Ask the user to enter five numbers and after each input ask them if they want that number included. If they do, then add the number to the total. If they do not want it included,don’t add it to the total. After they have entered all five numbers, display the total."
      ],
      "metadata": {
        "id": "iGyzrjFaZRX5"
      }
    },
    {
      "cell_type": "code",
      "source": [
        "num=int(input(\"enter 1st no : \"))\n",
        "num1=int(input(\"enter 2nd no : \"))\n",
        "numt=num+num1\n",
        "print(numt)\n",
        "qus=input(\"Do you want enter any no:\")\n",
        "if qus =='yes' :\n",
        "  num2=int(input(\"enter 3rd no : \"))\n",
        "  add=numt+num2\n",
        "  print(add)\n",
        "else:\n",
        "  print(numt)\n",
        "\n",
        "qus1=input(\"Do you want enter any no:\")\n",
        "if qus1 =='yes' :\n",
        "  num3=int(input(\"enter 4th no : \"))\n",
        "  addt=add+num3\n",
        "  print(addt)\n",
        "else:\n",
        "  print(add)\n",
        "\n",
        "qus2=input(\"Do you want enter any no:\")\n",
        "if qus2=='yes' :\n",
        "  num4=int(input(\"enter 5th no : \"))\n",
        "  total=addt+num4\n",
        "  print(\"Total of five no is\",total)\n",
        "else:\n",
        "  print(addt)"
      ],
      "metadata": {
        "colab": {
          "base_uri": "https://localhost:8080/"
        },
        "id": "aZTCBzSCZUbz",
        "outputId": "e957eb0b-e223-49e3-ebbc-5b27d725e9f6"
      },
      "execution_count": null,
      "outputs": [
        {
          "output_type": "stream",
          "name": "stdout",
          "text": [
            "enter 1st no : 2\n",
            "enter 2nd no : 1\n",
            "3\n",
            "Do you want enter any no:yes\n",
            "enter 3rd no : 1\n",
            "4\n",
            "Do you want enter any no:yes\n",
            "enter 4th no : 1\n",
            "5\n",
            "Do you want enter any no:yes5\n",
            "5\n"
          ]
        }
      ]
    },
    {
      "cell_type": "markdown",
      "source": [
        "# 24.Ask which direction the user wants to count (up or down). If they select up, then ask them for the top number and then count from 1 to that number. If they select down, ask them to enter a number below 20 and then count down from 20 to that number. If they entered something other than up or down, display the message \"I don’t understand\"."
      ],
      "metadata": {
        "id": "-dNFhKPZaIX5"
      }
    },
    {
      "cell_type": "code",
      "source": [
        "dirc=input(\"Enter the direction which is want up or down?\")\n",
        "if dirc=='up':\n",
        "  top=int(input(\"Enter the top no:\"))\n",
        "  for top in range(1,top):\n",
        "    print(top)\n",
        "elif dirc =='down':\n",
        "  num=int(input(\"Enter the no below 20:\"))\n",
        "  for num in reversed(range(num,20)):\n",
        "    print(num)\n",
        "else:\n",
        "  print(\"I don’t understand\")"
      ],
      "metadata": {
        "colab": {
          "base_uri": "https://localhost:8080/"
        },
        "id": "kgUEIEmpaNah",
        "outputId": "acda3f51-6cde-4fd2-fd41-afceb15a42a1"
      },
      "execution_count": null,
      "outputs": [
        {
          "output_type": "stream",
          "name": "stdout",
          "text": [
            "Enter the direction which is want up or down?up\n",
            "Enter the top no:10\n",
            "1\n",
            "2\n",
            "3\n",
            "4\n",
            "5\n",
            "6\n",
            "7\n",
            "8\n",
            "9\n"
          ]
        }
      ]
    },
    {
      "cell_type": "markdown",
      "source": [
        "# 25.Ask how many people the user wants to invite to a party. If they enter a number below 10, ask for the names and after each name display \"[name] has been invited\". If they enter a number which is 10 or higher, display the message \"Too many people\"."
      ],
      "metadata": {
        "id": "PKBPdgheaf5p"
      }
    },
    {
      "cell_type": "code",
      "source": [
        "Qus=int(input(\"How many people the user wants to invite to a party? \"))\n",
        "if(Qus<10):\n",
        "  name=input(\"Please enter your name: \")\n",
        "  print(name,\"has been invited.\")\n",
        "else:\n",
        "  print(\"Too many people\")"
      ],
      "metadata": {
        "colab": {
          "base_uri": "https://localhost:8080/"
        },
        "id": "MLbo3UelamxJ",
        "outputId": "4646c14c-7c25-4455-9009-fd99f1c78469"
      },
      "execution_count": null,
      "outputs": [
        {
          "output_type": "stream",
          "name": "stdout",
          "text": [
            "How many people the user wants to invite to a party? 11\n",
            "Too many people\n"
          ]
        }
      ]
    }
  ]
}