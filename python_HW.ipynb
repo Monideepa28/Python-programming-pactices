{
  "nbformat": 4,
  "nbformat_minor": 0,
  "metadata": {
    "colab": {
      "provenance": [],
      "collapsed_sections": [],
      "authorship_tag": "ABX9TyMFuW/WHHp5+y11UE8s8w0M",
      "include_colab_link": true
    },
    "kernelspec": {
      "name": "python3",
      "display_name": "Python 3"
    },
    "language_info": {
      "name": "python"
    }
  },
  "cells": [
    {
      "cell_type": "markdown",
      "metadata": {
        "id": "view-in-github",
        "colab_type": "text"
      },
      "source": [
        "<a href=\"https://colab.research.google.com/github/Monideepa28/Python-programming-pactices/blob/main/python_HW.ipynb\" target=\"_parent\"><img src=\"https://colab.research.google.com/assets/colab-badge.svg\" alt=\"Open In Colab\"/></a>"
      ]
    },
    {
      "cell_type": "markdown",
      "source": [
        "# ***Python*** ***Pactices*** "
      ],
      "metadata": {
        "id": "aVh8YGbDkRM3"
      }
    },
    {
      "cell_type": "markdown",
      "source": [
        "**1. Write a Program to find the square root of a number.**"
      ],
      "metadata": {
        "id": "oR8KSwGOpYMd"
      }
    },
    {
      "cell_type": "code",
      "execution_count": null,
      "metadata": {
        "colab": {
          "base_uri": "https://localhost:8080/"
        },
        "id": "fiYEPgPCnlmH",
        "outputId": "a343ec07-d157-4748-c03c-2a4b7cdfd3fe"
      },
      "outputs": [
        {
          "output_type": "stream",
          "name": "stdout",
          "text": [
            "Enter a no: 4\n",
            "2.0\n"
          ]
        }
      ],
      "source": [
        "import math \n",
        "a=int(input(\"Enter a no: \"))\n",
        "print(math.sqrt(a)) "
      ]
    },
    {
      "cell_type": "markdown",
      "source": [
        "**2. Write a program to find the area of a Rectangle.**"
      ],
      "metadata": {
        "id": "JbEz1WBXyX3J"
      }
    },
    {
      "cell_type": "code",
      "source": [
        "import math \n",
        "w=int(input(\"Enter the value of Width: \"))\n",
        "l=int(input(\"Enter the value of length:\"))\n",
        "area=w*l\n",
        "print(\"Area of a Rectangle is:\",area)\n"
      ],
      "metadata": {
        "colab": {
          "base_uri": "https://localhost:8080/"
        },
        "id": "eYHn22iAyiQR",
        "outputId": "b3a08073-e3f3-4f90-cb96-694ba3fbdea5"
      },
      "execution_count": null,
      "outputs": [
        {
          "output_type": "stream",
          "name": "stdout",
          "text": [
            "Enter the value of Width: 2\n",
            "Enter the value of length:4\n",
            "Area of a Rectangle is: 8\n"
          ]
        }
      ]
    },
    {
      "cell_type": "markdown",
      "source": [
        "**3. Write a program to swap the values of two variables.**"
      ],
      "metadata": {
        "id": "cDm1RThk01k5"
      }
    },
    {
      "cell_type": "code",
      "source": [
        "\n",
        "a=10\n",
        "b=20\n",
        "b,a=a,b\n",
        "print(a)\n",
        "print(b)"
      ],
      "metadata": {
        "colab": {
          "base_uri": "https://localhost:8080/"
        },
        "id": "XgIED8VmRNRO",
        "outputId": "b7f467f3-a955-4b1e-a39a-61f1d8af3be2"
      },
      "execution_count": null,
      "outputs": [
        {
          "output_type": "stream",
          "name": "stdout",
          "text": [
            "20\n",
            "10\n"
          ]
        }
      ]
    },
    {
      "cell_type": "code",
      "source": [
        "x = 10\n",
        "y = 50\n",
        "temp = x\n",
        "x = y\n",
        "y = temp\n",
        "\n",
        "print(\"Value of x:\", x)\n",
        "print(\"Value of y:\", y)"
      ],
      "metadata": {
        "colab": {
          "base_uri": "https://localhost:8080/"
        },
        "id": "VoygrwBv009B",
        "outputId": "530bee9e-91fc-4faa-b627-d9c587d1b215"
      },
      "execution_count": null,
      "outputs": [
        {
          "output_type": "stream",
          "name": "stdout",
          "text": [
            "Value of x: 50\n",
            "Value of y: 10\n"
          ]
        }
      ]
    },
    {
      "cell_type": "code",
      "source": [
        "x = int(input(\"Enter a value of x no: \"))\n",
        "y = int(input(\"Enter a value of y no: \"))\n",
        "temp = x\n",
        "x = y\n",
        "y = temp\n",
        "\n",
        "print(\"Value of x:\", x)\n",
        "print(\"Value of y:\", y)"
      ],
      "metadata": {
        "colab": {
          "base_uri": "https://localhost:8080/"
        },
        "id": "Fbhz2PKa9ddG",
        "outputId": "8188b2ed-b6ff-431a-b457-10dfa8ab9ad4"
      },
      "execution_count": null,
      "outputs": [
        {
          "output_type": "stream",
          "name": "stdout",
          "text": [
            "Enter a value of x no: 23\n",
            "Enter a value of x no: 12\n",
            "Value of x: 12\n",
            "Value of y: 23\n"
          ]
        }
      ]
    },
    {
      "cell_type": "markdown",
      "source": [
        "**4. Write a program to convert kilogram into pound.**"
      ],
      "metadata": {
        "id": "RS50RIWf9xZI"
      }
    },
    {
      "cell_type": "code",
      "source": [
        "kg=int(input(\"Enter the value of kilogram:\"))\n",
        "pound=kg*2.2\n",
        "print(kg,\"kg =\",pound,\"pound\")"
      ],
      "metadata": {
        "colab": {
          "base_uri": "https://localhost:8080/"
        },
        "id": "1opimCb_99vm",
        "outputId": "5e15265e-e02e-4a3a-fe4b-0e60be7632bf"
      },
      "execution_count": null,
      "outputs": [
        {
          "output_type": "stream",
          "name": "stdout",
          "text": [
            "Enter the value of kilogram:2\n",
            "2 kg = 4.4 pound\n"
          ]
        }
      ]
    },
    {
      "cell_type": "markdown",
      "source": [
        "**5. Write a program to find whether a number is even or odd.**"
      ],
      "metadata": {
        "id": "1xhwbdE2A6uF"
      }
    },
    {
      "cell_type": "code",
      "source": [
        "num=int(input(\"Enter a no:\"))\n",
        "if num%2==0:\n",
        "  print(num,\"is even\")\n",
        "else:\n",
        "  print(num,\"is odd\")"
      ],
      "metadata": {
        "colab": {
          "base_uri": "https://localhost:8080/"
        },
        "id": "6Yo-oL6uB-BF",
        "outputId": "3ae38a88-7c50-4d64-f6d6-bc0aa0bc06d3"
      },
      "execution_count": null,
      "outputs": [
        {
          "output_type": "stream",
          "name": "stdout",
          "text": [
            "Enter the value of kilogram:2\n",
            "2 is even\n"
          ]
        }
      ]
    },
    {
      "cell_type": "markdown",
      "source": [
        "**6. Write a program to check the largest among the given three numbers.**"
      ],
      "metadata": {
        "id": "Qn_rWfvELViZ"
      }
    },
    {
      "cell_type": "code",
      "source": [
        "num1=int(input(\"Enter 1st no:\"))\n",
        "num2=int(input(\"Enter 2nd no:\"))\n",
        "num3=int(input(\"Enter 3rd no:\"))\n",
        "if (num1>=num2)and(num1>=num3):\n",
        "  print(num1,\"is larger than other two number.\")\n",
        "elif (num1<=num2)and(num2>=num3):\n",
        "  print(num2,\"is larger than other two number.\")\n",
        "else:\n",
        "  print(num3,\"is larger than other two number.\")"
      ],
      "metadata": {
        "colab": {
          "base_uri": "https://localhost:8080/"
        },
        "id": "EL5JHUsELWYp",
        "outputId": "04af1f22-1069-43b8-b0ae-d6c6fb872ea8"
      },
      "execution_count": null,
      "outputs": [
        {
          "output_type": "stream",
          "name": "stdout",
          "text": [
            "Enter 1st no:12\n",
            "Enter 2nd no:23\n",
            "Enter 3rd no:3\n",
            "23 is larger than other two number.\n"
          ]
        }
      ]
    },
    {
      "cell_type": "markdown",
      "source": [
        "**7. Write a Python program to check if the input year is a leap year or not.**"
      ],
      "metadata": {
        "id": "qOQpvH3APWIQ"
      }
    },
    {
      "cell_type": "code",
      "source": [
        "yr=int(input(\"Enter a year:\"))\n",
        "if yr%400==0 and yr%100==0:\n",
        "  print(yr,\"is leap year\")\n",
        "elif yr%4==0 and yr%100!=0:\n",
        "  print(yr,\"is leap year\")\n",
        "else:\n",
        "  print(yr,\"is not leap year\")"
      ],
      "metadata": {
        "colab": {
          "base_uri": "https://localhost:8080/"
        },
        "id": "cBtTHXAIPldI",
        "outputId": "b56c3e75-55c7-4648-82fe-70cb23acfd82"
      },
      "execution_count": 11,
      "outputs": [
        {
          "output_type": "stream",
          "name": "stdout",
          "text": [
            "Enter a year:1900\n",
            "1900 is not leap year\n"
          ]
        }
      ]
    },
    {
      "cell_type": "markdown",
      "source": [
        "**8. Write a Python program to display the Fibonacci sequence for n terms.**"
      ],
      "metadata": {
        "id": "HYt7oD2YRduv"
      }
    },
    {
      "cell_type": "code",
      "source": [
        "num1=int(input(\"How many terms? \"))\n",
        "n1=0\n",
        "n2=1\n",
        "count=0\n",
        "if num1 <= 0:\n",
        "   print(\"Please enter a positive integer\")\n",
        "elif num1 == 1:\n",
        "   print(\"Fibonacci sequence upto\",num1,\":\")\n",
        "   print(n1)\n",
        "# generate fibonacci sequence\n",
        "else:\n",
        "   print(\"Fibonacci sequence:\")\n",
        "   while count < num1:\n",
        "       print(n1)\n",
        "       nth = n1 + n2\n",
        "       # update values\n",
        "       n1 = n2\n",
        "       n2 = nth\n",
        "       count += 1"
      ],
      "metadata": {
        "colab": {
          "base_uri": "https://localhost:8080/"
        },
        "id": "csFOXbs0RiYH",
        "outputId": "7c47b70f-23d9-415d-e9b0-71c5207821c4"
      },
      "execution_count": null,
      "outputs": [
        {
          "output_type": "stream",
          "name": "stdout",
          "text": [
            "How many terms? 5\n",
            "Fibonacci sequence:\n",
            "0\n",
            "1\n",
            "1\n",
            "2\n",
            "3\n"
          ]
        }
      ]
    },
    {
      "cell_type": "markdown",
      "source": [
        "**9. Write a program to demonstrate While loop with else.**"
      ],
      "metadata": {
        "id": "gkIGgXQ6gQVQ"
      }
    },
    {
      "cell_type": "code",
      "source": [
        "counter = int(input(\"Enter a value:\"))\n",
        "while counter <=3:\n",
        "    print(\"Hi,Friends!!!!\")\n",
        "    counter = counter + 1\n",
        "else:\n",
        "    print(\"Inside else\")"
      ],
      "metadata": {
        "colab": {
          "base_uri": "https://localhost:8080/"
        },
        "id": "xMl3VD0AgRBf",
        "outputId": "7af6ac97-80a0-4792-dbf2-018706fb7627"
      },
      "execution_count": null,
      "outputs": [
        {
          "output_type": "stream",
          "name": "stdout",
          "text": [
            "Enter a value:2\n",
            "Hi,Friends!!!!\n",
            "Hi,Friends!!!!\n",
            "Inside else\n"
          ]
        }
      ]
    },
    {
      "cell_type": "markdown",
      "source": [
        "**10.Write a Python program to print the prime numbers for a user provided range.**"
      ],
      "metadata": {
        "id": "gpoU857xgLyA"
      }
    },
    {
      "cell_type": "code",
      "source": [
        "lower = int(input(\"Enter the starting range:\"))\n",
        "upper = int(input(\"Enter the ending range:\"))\n",
        "print(\"Prime numbers between\", lower, \"and\", upper, \"are:\")\n",
        "for num in range(lower, upper + 1):\n",
        "   if num > 1:\n",
        "       for i in range(2, num):\n",
        "           if (num % i) == 0:\n",
        "               break\n",
        "       else:\n",
        "           print(num)"
      ],
      "metadata": {
        "colab": {
          "base_uri": "https://localhost:8080/"
        },
        "id": "H1pVJATOfhz5",
        "outputId": "efde2896-080e-4799-f88d-fba8352bc865"
      },
      "execution_count": null,
      "outputs": [
        {
          "output_type": "stream",
          "name": "stdout",
          "text": [
            "Enter the starting range:20\n",
            "Enter the ending range:50\n",
            "Prime numbers between 20 and 50 are:\n",
            "23\n",
            "29\n",
            "31\n",
            "37\n",
            "41\n",
            "43\n",
            "47\n"
          ]
        }
      ]
    }
  ]
}