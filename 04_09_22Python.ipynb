{
  "nbformat": 4,
  "nbformat_minor": 0,
  "metadata": {
    "colab": {
      "provenance": [],
      "authorship_tag": "ABX9TyOTe/TQOahqEUOBr7UzLGsW",
      "include_colab_link": true
    },
    "kernelspec": {
      "name": "python3",
      "display_name": "Python 3"
    },
    "language_info": {
      "name": "python"
    }
  },
  "cells": [
    {
      "cell_type": "markdown",
      "metadata": {
        "id": "view-in-github",
        "colab_type": "text"
      },
      "source": [
        "<a href=\"https://colab.research.google.com/github/Monideepa28/Python-programming-pactices/blob/main/04_09_22Python.ipynb\" target=\"_parent\"><img src=\"https://colab.research.google.com/assets/colab-badge.svg\" alt=\"Open In Colab\"/></a>"
      ]
    },
    {
      "cell_type": "markdown",
      "source": [
        "# ***Basic Python problem Statement:::***"
      ],
      "metadata": {
        "id": "pqlcumoLzi8p"
      }
    },
    {
      "cell_type": "code",
      "execution_count": null,
      "metadata": {
        "id": "ST9SS-zdTzkb",
        "colab": {
          "base_uri": "https://localhost:8080/"
        },
        "outputId": "4aa06109-e7ac-4317-9496-d741e4b4046a"
      },
      "outputs": [
        {
          "output_type": "stream",
          "name": "stdout",
          "text": [
            "Monideepa\n"
          ]
        }
      ],
      "source": [
        "name_str=['Monideepa' , 'Saha']\n",
        "print(name_str[0])"
      ]
    },
    {
      "cell_type": "markdown",
      "source": [
        "## 1. Ask for the user's first name and display the output message Hello [First Name]"
      ],
      "metadata": {
        "id": "FHiDOzUpUvvQ"
      }
    },
    {
      "cell_type": "code",
      "source": [
        "fn=input(\"Enter your Name:\")\n",
        "print(\"Hello,\",fn)"
      ],
      "metadata": {
        "colab": {
          "base_uri": "https://localhost:8080/"
        },
        "id": "U_j59SVvWifY",
        "outputId": "c5c7c1c8-11b1-4963-ef3a-e585923a4d46"
      },
      "execution_count": null,
      "outputs": [
        {
          "output_type": "stream",
          "name": "stdout",
          "text": [
            "Enter your Surname:Monideepa\n",
            "Hello, Monideepa\n"
          ]
        }
      ]
    },
    {
      "cell_type": "markdown",
      "source": [
        "##2. Ask for the user’s first name and then ask for their surname and display the output message Hello [First Name] [Surname]."
      ],
      "metadata": {
        "id": "wigqQjt8WjRg"
      }
    },
    {
      "cell_type": "code",
      "source": [
        "fn=input(\"Enter your Name:\")\n",
        "sn=input(\"Enter your Surname:\")\n",
        "print(\"Hello,\",fn,sn)"
      ],
      "metadata": {
        "colab": {
          "base_uri": "https://localhost:8080/"
        },
        "id": "oOzwOoedXej4",
        "outputId": "32a2f20a-e742-4dad-dffa-a9ec6335276b"
      },
      "execution_count": null,
      "outputs": [
        {
          "output_type": "stream",
          "name": "stdout",
          "text": [
            "Enter your Name:Monideepa\n",
            "Enter your Surname:Saha\n",
            "Hello, Monideepa Saha\n"
          ]
        }
      ]
    },
    {
      "cell_type": "markdown",
      "source": [
        "# 3. Write code that will display the joke \"What do you call a bear with no teeth?\" and on the next line display the answer \"A gummy bear!\" Try to create it using only one line of code.   "
      ],
      "metadata": {
        "id": "lZXcdGrDX89n"
      }
    },
    {
      "cell_type": "code",
      "source": [
        "print(\"What do you call a bear with no teeth?\\n A gummy bear!\")"
      ],
      "metadata": {
        "colab": {
          "base_uri": "https://localhost:8080/"
        },
        "id": "vma2RONWX8bQ",
        "outputId": "08756aa2-43ac-45bd-ba41-2cd2c5279e1d"
      },
      "execution_count": null,
      "outputs": [
        {
          "output_type": "stream",
          "name": "stdout",
          "text": [
            "What do you call a bear with no teeth?\n",
            " A gummy bear!\n"
          ]
        }
      ]
    },
    {
      "cell_type": "markdown",
      "source": [
        "# 4. Ask the user to enter two numbers. Add them together and display the answer as The total is [answer]. "
      ],
      "metadata": {
        "id": "vwMcCJP_YetA"
      }
    },
    {
      "cell_type": "code",
      "source": [
        "fn=int(input(\"Enter 1st no:\"))\n",
        "sn=int(input(\"Enter 2nd no:\"))\n",
        "sum =fn+sn\n",
        "print(\"The Answer is:\",sum)"
      ],
      "metadata": {
        "colab": {
          "base_uri": "https://localhost:8080/"
        },
        "id": "Wc57xZp3YhzB",
        "outputId": "e499e3b5-a4c5-45ef-d6c1-e3c083054c16"
      },
      "execution_count": null,
      "outputs": [
        {
          "output_type": "stream",
          "name": "stdout",
          "text": [
            "Enter 1st no:10\n",
            "Enter 2nd no:20\n",
            "The Answer is: 30\n"
          ]
        }
      ]
    },
    {
      "cell_type": "markdown",
      "source": [
        "# 5. Ask the user to enter three numbers. Add together the first two numbers and then multiply this total by the third. Display the answer as The answer is [answer]."
      ],
      "metadata": {
        "id": "i0Aa75lLZ_3Y"
      }
    },
    {
      "cell_type": "code",
      "source": [
        "fn=int(input(\"Enter 1st no:\"))\n",
        "sn=int(input(\"Enter 2nd no:\"))\n",
        "Tn=int(input(\"Enter 3rd no:\"))\n",
        "sum =(fn+sn)*Tn\n",
        "print(\"\",sum)"
      ],
      "metadata": {
        "colab": {
          "base_uri": "https://localhost:8080/"
        },
        "id": "HElfrxJSaBMC",
        "outputId": "7795f5d0-cdf0-4b0e-f377-7cc5a9c2c33b"
      },
      "execution_count": null,
      "outputs": [
        {
          "output_type": "stream",
          "name": "stdout",
          "text": [
            "Enter 1st no:1\n",
            "Enter 2nd no:2\n",
            "Enter 3rd no:3\n",
            " 9\n"
          ]
        }
      ]
    },
    {
      "cell_type": "markdown",
      "source": [
        "# 6. Ask how many slices of pizza the user started with and ask how many slices they have eaten. Work out how many slices they have left and display the answer in a user-friendly format.\n",
        "\n",
        "\n",
        "\n",
        "\n",
        "\n"
      ],
      "metadata": {
        "id": "FwPXRfPWaUMA"
      }
    },
    {
      "cell_type": "code",
      "source": [
        "Tp = int(input(\"total slices in start:\"))\n",
        "ep= int(input(\"eat slices in end:\"))\n",
        "left=Tp-ep\n",
        "print(\"they have left\",left,\"slices\")"
      ],
      "metadata": {
        "colab": {
          "base_uri": "https://localhost:8080/"
        },
        "id": "1JEJ--g_aaL_",
        "outputId": "2aa05d56-14f0-4dfc-b89f-2722bb5afe50"
      },
      "execution_count": null,
      "outputs": [
        {
          "output_type": "stream",
          "name": "stdout",
          "text": [
            "total slices in start:5\n",
            "eat slices in end:2\n",
            "they have left 3 slices\n"
          ]
        }
      ]
    },
    {
      "cell_type": "markdown",
      "source": [
        "# 7. Ask the user for their name and their age. Add 1 to their age and display the output [Name] next birthday you will be [new age]. "
      ],
      "metadata": {
        "id": "zTzdkUe1volq"
      }
    },
    {
      "cell_type": "code",
      "source": [
        "name=input(\"Enter your name:\")\n",
        "age=int(input(\"Enter your age:\"))\n",
        "next_age=age+1\n",
        "print(name,\"next birthday you will be:\",next_age)"
      ],
      "metadata": {
        "colab": {
          "base_uri": "https://localhost:8080/"
        },
        "id": "jfzXwf9RvxIa",
        "outputId": "2a2bc5a9-f93e-406e-c1ca-8f5d58756ac0"
      },
      "execution_count": null,
      "outputs": [
        {
          "output_type": "stream",
          "name": "stdout",
          "text": [
            "Enter your name:Monideepa\n",
            "Enter your age:21\n",
            "Monideepa next birthday you will be: 22\n"
          ]
        }
      ]
    },
    {
      "cell_type": "markdown",
      "source": [
        "# 8. Ask for the total price of the bill, then ask how many diners there are. Divide the total bill by the number of diners and show how much each person must pay. "
      ],
      "metadata": {
        "id": "23_viGNqyNyq"
      }
    },
    {
      "cell_type": "code",
      "source": [
        "price=int(input(\"Enter the total price of the bill :\"))\n",
        "dinner=int(input(\"Enter the total dinner:\"))\n",
        "person_pay=price//dinner\n",
        "print(\"So each person must be pay Rs.\",person_pay)"
      ],
      "metadata": {
        "colab": {
          "base_uri": "https://localhost:8080/"
        },
        "id": "-uA0XXkwySZB",
        "outputId": "0f8d7fbe-d511-4161-910d-7c1c66f28650"
      },
      "execution_count": null,
      "outputs": [
        {
          "output_type": "stream",
          "name": "stdout",
          "text": [
            "Enter the total price of the bill :125\n",
            "Enter the total dinner:10\n",
            "So each person must be pay Rs. 12\n"
          ]
        }
      ]
    },
    {
      "cell_type": "markdown",
      "source": [
        "# 9. Write a program that will ask for a number of days and then will show how many hours, minutes and seconds are in that number of days."
      ],
      "metadata": {
        "id": "YljNUANt1EaC"
      }
    },
    {
      "cell_type": "code",
      "source": [
        "days=int(input(\"Enter any no:\"))\n",
        "hours=24*days\n",
        "minutes=hours*60\n",
        "seconds=60*minutes\n",
        "print(\"In\",days,\"days there are...\")\n",
        "print(days,\"days\",\"=\",hours,\"hours\",minutes,\"min\",seconds,\"sec\")\n"
      ],
      "metadata": {
        "colab": {
          "base_uri": "https://localhost:8080/"
        },
        "id": "mxc6kK3l1LRx",
        "outputId": "7f70a242-37c9-416e-90ed-55c4be066252"
      },
      "execution_count": null,
      "outputs": [
        {
          "output_type": "stream",
          "name": "stdout",
          "text": [
            "Enter any no:2\n",
            "In 2 days there are...\n",
            "2 days = 48 hours 2880 min 172800 sec\n"
          ]
        }
      ]
    },
    {
      "cell_type": "markdown",
      "source": [
        "# 10. There are 2.204 pounds in a kilogram. Ask the user to enter a weight in kilograms and convert it to pounds.  "
      ],
      "metadata": {
        "id": "7MgiHcmAJi1a"
      }
    },
    {
      "cell_type": "code",
      "source": [
        "num=int(input(\"Enter the weight:\"))\n",
        "pounds=num*2.204\n",
        "print(num,\"kg = \",pounds,\"pound\")"
      ],
      "metadata": {
        "colab": {
          "base_uri": "https://localhost:8080/"
        },
        "id": "Lf12rKsQJkSR",
        "outputId": "a88dd281-79ab-4eac-acec-7f5a5a7605bf"
      },
      "execution_count": null,
      "outputs": [
        {
          "output_type": "stream",
          "name": "stdout",
          "text": [
            "Enter the weight:2\n",
            "2 kg =  4.408 pound\n"
          ]
        }
      ]
    },
    {
      "cell_type": "markdown",
      "source": [
        "# 11. Ask the user to enter a number over 100 and then enter a number under 10 and tell them how many times the smaller number goes into the larger number in a user-friendly format."
      ],
      "metadata": {
        "id": "LSVvIgHsOGf5"
      }
    },
    {
      "cell_type": "code",
      "source": [
        "lno=int(input(\"Enter a number over 100: \"))\n",
        "sno=int(input(\"Enter a number under 10: \"))\n",
        "answer=lno//sno\n",
        "print(sno,\"goes into\",lno,answer,\"times\")"
      ],
      "metadata": {
        "colab": {
          "base_uri": "https://localhost:8080/"
        },
        "id": "E08bKXSXONWh",
        "outputId": "5ccb102b-0b76-4e74-f6cd-f8ccc42961ad"
      },
      "execution_count": null,
      "outputs": [
        {
          "output_type": "stream",
          "name": "stdout",
          "text": [
            "Enter a number over 100: 33\n",
            "Enter a number under 10: 5\n",
            "5 goes into 33 6 times\n"
          ]
        }
      ]
    },
    {
      "cell_type": "markdown",
      "source": [
        "# ***If-else Problem***"
      ],
      "metadata": {
        "id": "VSyPH2tvQ3CR"
      }
    },
    {
      "cell_type": "markdown",
      "source": [
        "# 12. Ask for two numbers. If the first one is larger than the second, display the second number first and then the first number, otherwise show the first number first and then the second. "
      ],
      "metadata": {
        "id": "OZofLJhsO6Ia"
      }
    },
    {
      "cell_type": "code",
      "source": [
        "fno=int(input(\"Enter 1st number : \"))\n",
        "sno=int(input(\"Enter 2nd number : \"))\n",
        "if(fno>sno):\n",
        "  print(sno ,fno)\n",
        "else:\n",
        "  print(fno,sno)\n"
      ],
      "metadata": {
        "colab": {
          "base_uri": "https://localhost:8080/"
        },
        "id": "n0EIFzdlO-NJ",
        "outputId": "7bea122c-8be1-4b00-9f5f-9905f0b2b210"
      },
      "execution_count": null,
      "outputs": [
        {
          "output_type": "stream",
          "name": "stdout",
          "text": [
            "Enter 1st number : 30\n",
            "Enter 2nd number : 20\n",
            "20 30\n"
          ]
        }
      ]
    },
    {
      "cell_type": "markdown",
      "source": [
        "# 13. Ask the user to enter a number that is under 20. If they enter a number that is 20 or more, display the message \"Too high\", otherwise display \"Thank you\"."
      ],
      "metadata": {
        "id": "xSsmb54yQt-R"
      }
    },
    {
      "cell_type": "code",
      "source": [
        "no=int(input(\"Enter a number : \"))\n",
        "if(no>20):\n",
        "  print(\"Too high\")\n",
        "else:\n",
        "  print(\"Thank you\")\n"
      ],
      "metadata": {
        "colab": {
          "base_uri": "https://localhost:8080/"
        },
        "id": "pJbTrAcYQ0dh",
        "outputId": "93482c38-2d58-4258-9f09-ee860a77e62f"
      },
      "execution_count": null,
      "outputs": [
        {
          "output_type": "stream",
          "name": "stdout",
          "text": [
            "Enter a number : 45\n",
            "Too high\n"
          ]
        }
      ]
    },
    {
      "cell_type": "markdown",
      "source": [
        "# 14.a. Ask the user to enter a number between 10 and 20 (inclusive). If they enter a number within this range, display the message \"Thank you\", otherwise display the message \"Incorrect answer\". "
      ],
      "metadata": {
        "id": "njqNeh1yvywi"
      }
    },
    {
      "cell_type": "code",
      "source": [
        "num=int(input())\n",
        "if(10<=num<=20):\n",
        "  print(\"thank you\")\n",
        "else:\n",
        "    print(\"incorrect\")"
      ],
      "metadata": {
        "colab": {
          "base_uri": "https://localhost:8080/"
        },
        "id": "TyJ3Jkykf-1o",
        "outputId": "7aea845c-21a4-41bb-b590-dc7191c56fa6"
      },
      "execution_count": null,
      "outputs": [
        {
          "output_type": "stream",
          "name": "stdout",
          "text": [
            "20\n",
            "thank you\n"
          ]
        }
      ]
    },
    {
      "cell_type": "markdown",
      "source": [
        "# 14b. Ask the user to enter a number between 10 and 20 (exclusive). If they enter a number within this range, display the message \"Thank you\", otherwise display the message \"Incorrect answer\"."
      ],
      "metadata": {
        "id": "A7JTZGL0WSZR"
      }
    },
    {
      "cell_type": "code",
      "source": [
        "num=int(input())\n",
        "if(10<num<20):\n",
        "  print(\"thank you\")\n",
        "else:\n",
        "    print(\"incorrect\")"
      ],
      "metadata": {
        "colab": {
          "base_uri": "https://localhost:8080/"
        },
        "id": "H0C0wryVWfAA",
        "outputId": "ae4e3cb3-80ba-4fc0-df46-e745e1b756f7"
      },
      "execution_count": null,
      "outputs": [
        {
          "output_type": "stream",
          "name": "stdout",
          "text": [
            "20\n",
            "incorrect\n"
          ]
        }
      ]
    },
    {
      "cell_type": "markdown",
      "source": [
        "# 15.Ask the user to enter their favourite colour. If they enter \"red\", \"RED\" or \"Red\" display the message \"I like red too\", otherwise display the message \"I don’t like [colour], I prefer red\"."
      ],
      "metadata": {
        "id": "EXMibfvfRqz6"
      }
    },
    {
      "cell_type": "code",
      "source": [
        "from pprint import PrettyPrinter\n",
        "color=input(\"Enter your favourite colour: \")\n",
        "if(color==\"red\" or color==\"RED \" or color==\"Red\"):\n",
        "  print(\"I like red too\")\n",
        "else:\n",
        " print(\"I don’t like \",color,\", I prefer red.\")\n"
      ],
      "metadata": {
        "colab": {
          "base_uri": "https://localhost:8080/"
        },
        "id": "RqCXCKCvRuhp",
        "outputId": "231a7081-8f7e-4fda-fa4c-9f97d003d6b0"
      },
      "execution_count": null,
      "outputs": [
        {
          "output_type": "stream",
          "name": "stdout",
          "text": [
            "Enter your favourite colour: blue\n",
            "I don’t like  blue , I prefer red.\n"
          ]
        }
      ]
    },
    {
      "cell_type": "markdown",
      "source": [
        "# 16. Ask the user if it is raining and convert their answer to lower case so it doesn’t matter what case they type it in. If they answer \"yes\", ask if it is windy. If they answer \"yes\" to this second question, display the answer \"It is too windy for an umbrella\", otherwise display the message \"Take an umbrella\". If they did not answer yes to the first question, display the answer \"Enjoy your day\"."
      ],
      "metadata": {
        "id": "AMkzE2FwS4OZ"
      }
    },
    {
      "cell_type": "code",
      "source": [
        "rain=input(\"Is it raining?(yes/Yes/YES/no/No/NO) \")\n",
        "rain=str.lower(rain)\n",
        "if(rain=='yes'):\n",
        "  windy=input(\"is it windy?\")\n",
        "  windy=str.lower(windy)\n",
        "  if(windy=='yes'):\n",
        "    print(\"It is too windy for an umberlla\")\n",
        "  else:\n",
        "    print(\"Take an umbrella\")\n",
        "else:\n",
        "  print(\"Enjoy your day\")"
      ],
      "metadata": {
        "colab": {
          "base_uri": "https://localhost:8080/"
        },
        "id": "mPjIGXe4S74J",
        "outputId": "f0958155-fd4c-475d-c04f-8f2a4f0976a9"
      },
      "execution_count": null,
      "outputs": [
        {
          "output_type": "stream",
          "name": "stdout",
          "text": [
            "Is it raining?(yes/Yes/YES/no/No/NO) Yes\n",
            "is it windy?yes\n",
            "It is too windy for an umberlla\n"
          ]
        }
      ]
    },
    {
      "cell_type": "markdown",
      "source": [
        "# 17. Ask the user’s age. If they are 18 or over, display the message \"You can vote\", if they are aged 17, display the message \"You can learn to drive\", if they are 16, display the message \"You can buy a lottery ticket\", if they are under 16, display the message \"You can go Trick-or-Treating\"."
      ],
      "metadata": {
        "id": "tSV06EgsigRQ"
      }
    },
    {
      "cell_type": "code",
      "source": [
        "age=int(input(\"enter your age:\"))\n",
        "if(age>18):\n",
        "  print(\"You can vote\")\n",
        "elif(age==17):\n",
        "  print(\"You can learn to drive\")\n",
        "elif(age==16):\n",
        "    print(\"You can buy a lottery ticket\")\n",
        "else:\n",
        "    print(\"You can go Trick-or-Treating\")"
      ],
      "metadata": {
        "colab": {
          "base_uri": "https://localhost:8080/"
        },
        "id": "vicizl8Jiqmx",
        "outputId": "4e6ab69a-e93b-471f-e110-0cbb7ef9f709"
      },
      "execution_count": null,
      "outputs": [
        {
          "output_type": "stream",
          "name": "stdout",
          "text": [
            "enter your age:11\n",
            "You can go Trick-or-Treating\n"
          ]
        }
      ]
    },
    {
      "cell_type": "markdown",
      "source": [
        "# 18. Ask the user to enter a number. If it is under 10,display the message \"Too low\", if their number is between 10 and 20, display \"Correct\", otherwise display \"Too high\".  "
      ],
      "metadata": {
        "id": "tHWEMPSPVvCh"
      }
    },
    {
      "cell_type": "code",
      "source": [
        "num=int(input(\"Enter a number: \"))\n",
        "if(num<10):\n",
        "  print(\"Too low\")\n",
        "elif(num>=10 and num<=20):\n",
        "  print(\"Correct\")\n",
        "else:\n",
        "  print(\"Too high\")"
      ],
      "metadata": {
        "colab": {
          "base_uri": "https://localhost:8080/"
        },
        "id": "Ri40N_6SV1-h",
        "outputId": "762025cd-7fe2-4d3d-eab2-ba0b7985fbce"
      },
      "execution_count": null,
      "outputs": [
        {
          "output_type": "stream",
          "name": "stdout",
          "text": [
            "Enter a number: 20\n",
            "Correct\n"
          ]
        }
      ]
    },
    {
      "cell_type": "markdown",
      "source": [
        "# 19.Ask the user to enter 1, 2 or 3. If they enter a 1, display the message \"Thank you\", if they enter a 2, display \"Well done\", if they enter a 3, display \"Correct\". If they enter anything else, display \"Error message\"."
      ],
      "metadata": {
        "id": "okqN_24DjrBQ"
      }
    },
    {
      "cell_type": "code",
      "source": [
        "num=int(input(\"enter number:\"))\n",
        "if(num==1):\n",
        "  print(\"Thank you\")\n",
        "elif(num==2):\n",
        "  print(\"Well done\")\n",
        "elif(num==3):\n",
        "  print(\"Correct\")\n",
        "else:\n",
        "  print(\"Error message\")"
      ],
      "metadata": {
        "colab": {
          "base_uri": "https://localhost:8080/"
        },
        "id": "w1-iFqFtjr84",
        "outputId": "38cfba84-64ca-46df-e788-5f9f8103540e"
      },
      "execution_count": null,
      "outputs": [
        {
          "output_type": "stream",
          "name": "stdout",
          "text": [
            "enter number:1\n",
            "Thank you\n"
          ]
        }
      ]
    }
  ]
}